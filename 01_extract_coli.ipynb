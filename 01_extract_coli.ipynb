{
 "cells": [
  {
   "cell_type": "code",
   "execution_count": 1,
   "metadata": {},
   "outputs": [],
   "source": [
    "# import modules\n",
    "import pandas as pd"
   ]
  },
  {
   "cell_type": "markdown",
   "metadata": {},
   "source": [
    "## Cost of Living Index Data"
   ]
  },
  {
   "cell_type": "code",
   "execution_count": 2,
   "metadata": {},
   "outputs": [
    {
     "name": "stdout",
     "output_type": "stream",
     "text": [
      "https://www.numbeo.com/cost-of-living/rankings_by_country.jsp?title=2015\n",
      "119\n",
      "https://www.numbeo.com/cost-of-living/rankings_by_country.jsp?title=2016\n",
      "122\n",
      "https://www.numbeo.com/cost-of-living/rankings_by_country.jsp?title=2017\n",
      "121\n",
      "https://www.numbeo.com/cost-of-living/rankings_by_country.jsp?title=2018\n",
      "115\n",
      "https://www.numbeo.com/cost-of-living/rankings_by_country.jsp?title=2019\n",
      "119\n"
     ]
    }
   ],
   "source": [
    "# parse in html tables and check for number of records per table\n",
    "years = [2015, 2016, 2017, 2018, 2019]\n",
    "\n",
    "all_COLI_data = []\n",
    "\n",
    "for year in years:\n",
    "    url = 'https://www.numbeo.com/cost-of-living/rankings_by_country.jsp?title=' + str(year)\n",
    "    print(url)\n",
    "    COLI_data = pd.read_html(url)\n",
    "    print(len(COLI_data[2]))\n",
    "    all_COLI_data.append(COLI_data[2])"
   ]
  },
  {
   "cell_type": "code",
   "execution_count": 3,
   "metadata": {},
   "outputs": [],
   "source": [
    "# save COLI data as csv in 01_extract_coli\n",
    "for i in range(5):\n",
    "    outpath=\"./01_extract_coli/\"+str(years[i])+\"coli.csv\"\n",
    "    all_COLI_data[i].to_csv(outpath,index=False)"
   ]
  },
  {
   "cell_type": "markdown",
   "metadata": {},
   "source": [
    "## Property Index Data"
   ]
  },
  {
   "cell_type": "code",
   "execution_count": 4,
   "metadata": {},
   "outputs": [
    {
     "name": "stdout",
     "output_type": "stream",
     "text": [
      "https://www.numbeo.com/property-investment/rankings_by_country.jsp?title=2015\n",
      "121\n",
      "https://www.numbeo.com/property-investment/rankings_by_country.jsp?title=2016\n",
      "102\n",
      "https://www.numbeo.com/property-investment/rankings_by_country.jsp?title=2017\n",
      "99\n",
      "https://www.numbeo.com/property-investment/rankings_by_country.jsp?title=2018\n",
      "89\n",
      "https://www.numbeo.com/property-investment/rankings_by_country.jsp?title=2019\n",
      "93\n"
     ]
    }
   ],
   "source": [
    "# parse in html tables and check for number of records per table\n",
    "all_property_data = []\n",
    "\n",
    "for year in years:\n",
    "    url = 'https://www.numbeo.com/property-investment/rankings_by_country.jsp?title=' + str(year)\n",
    "    print(url)\n",
    "    property_data = pd.read_html(url)\n",
    "    print(len(property_data[2]))\n",
    "    all_property_data.append(property_data[2])"
   ]
  },
  {
   "cell_type": "code",
   "execution_count": 5,
   "metadata": {},
   "outputs": [],
   "source": [
    "# save property data as csv in 01_extract_coli\n",
    "for i in range(5):\n",
    "    outpath=\"./01_extract_coli/\"+str(years[i])+\"property.csv\"\n",
    "    all_property_data[i].to_csv(outpath,index=False)"
   ]
  },
  {
   "cell_type": "code",
   "execution_count": null,
   "metadata": {},
   "outputs": [],
   "source": []
  }
 ],
 "metadata": {
  "kernelspec": {
   "display_name": "Python 3",
   "language": "python",
   "name": "python3"
  },
  "language_info": {
   "codemirror_mode": {
    "name": "ipython",
    "version": 3
   },
   "file_extension": ".py",
   "mimetype": "text/x-python",
   "name": "python",
   "nbconvert_exporter": "python",
   "pygments_lexer": "ipython3",
   "version": "3.7.7"
  }
 },
 "nbformat": 4,
 "nbformat_minor": 4
}
