{
 "cells": [
  {
   "cell_type": "markdown",
   "metadata": {},
   "source": [
    "**<center>ETL Project by Save the Data Team</center>**\n",
    "==============="
   ]
  },
  {
   "cell_type": "markdown",
   "metadata": {},
   "source": [
    "![](data-840x630.jpeg)"
   ]
  },
  {
   "cell_type": "markdown",
   "metadata": {},
   "source": [
    "**Project to Summary:**"
   ]
  },
  {
   "cell_type": "markdown",
   "metadata": {},
   "source": [
    "The aim of this project was to build a database that would allow users to examine the relationship between a country’s happiness, as reported in the world happiness report, and its average cost of living.  We assumed that countries with a higher happiness score would have a higher cost of living, potentially reflecting an inverse association ie happier country = more expensive to live in. "
   ]
  },
  {
   "cell_type": "markdown",
   "metadata": {},
   "source": [
    "### Prepared By:\n",
    "\n",
    "* Yann Chye\n",
    "* Baili Li (Esther)\n",
    "* Michelle Hocking\n",
    "* Eamonn McCallum\n",
    "***\n"
   ]
  },
  {
   "cell_type": "markdown",
   "metadata": {},
   "source": [
    "**Git Repository Map:**"
   ]
  },
  {
   "cell_type": "markdown",
   "metadata": {},
   "source": [
    "\n",
    "| Phase | Description| NotesBooks and Relates Directors  |\n",
    "| --------  | ------------------- | --------------------- |\n",
    "| Extract | **Cost of Living Expense & Property Prices**| \"01_extract_coli.ipynb\" -> /01_extract_coli **CSVs by year**| \n",
    "| Extract | **World Happy Data** | \"01_extract_happiness.ipynb\" -> /01_extract_happiness  **CSVs by year**| \n",
    "| Transform | **Cost of Living Data Cleaning** | \"02_transform_coli.ipynb\" -> 02_transform_coli.ipynb **cleaned CSV**| \n",
    "| Transform | **World Happy Data Cleaning** | \"01_extract_happiness.ipynb\" -> /01_extract_happiness **cleaned CSV**| \n",
    "| Load | **Entity Relationship Diagram** | \"erd.png\" -> /03_load | \n"
   ]
  },
  {
   "cell_type": "markdown",
   "metadata": {},
   "source": []
  },
  {
   "cell_type": "code",
   "execution_count": null,
   "metadata": {},
   "outputs": [],
   "source": []
  }
 ],
 "metadata": {
  "kernelspec": {
   "display_name": "Python 3",
   "language": "python",
   "name": "python3"
  },
  "language_info": {
   "codemirror_mode": {
    "name": "ipython",
    "version": 3
   },
   "file_extension": ".py",
   "mimetype": "text/x-python",
   "name": "python",
   "nbconvert_exporter": "python",
   "pygments_lexer": "ipython3",
   "version": "3.7.7"
  }
 },
 "nbformat": 4,
 "nbformat_minor": 4
}
