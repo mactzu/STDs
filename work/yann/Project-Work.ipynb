{
 "cells": [
  {
   "cell_type": "code",
   "execution_count": 1,
   "metadata": {},
   "outputs": [],
   "source": [
    "# import modules\n",
    "import os\n",
    "import pandas as pd"
   ]
  },
  {
   "cell_type": "code",
   "execution_count": 2,
   "metadata": {},
   "outputs": [],
   "source": [
    "# import happiness report csv files fo 2015-2019 \n",
    "# into pandas dataframe within a dictionary\n",
    "happypath=os.path.join('..','data','world_happines_index_kaggle','datasets_894_813759_')\n",
    "year=['2015','2016','2017','2018','2019']\n",
    "happyyear={}\n",
    "for i in range(len(year)):\n",
    "    happyyear[year[i]]=pd.read_csv(happypath+year[i]+'.csv')"
   ]
  },
  {
   "cell_type": "code",
   "execution_count": 3,
   "metadata": {},
   "outputs": [
    {
     "name": "stdout",
     "output_type": "stream",
     "text": [
      "2015\n",
      "Index(['Country', 'Region', 'Happiness Rank', 'Happiness Score',\n",
      "       'Standard Error', 'Economy (GDP per Capita)', 'Family',\n",
      "       'Health (Life Expectancy)', 'Freedom', 'Trust (Government Corruption)',\n",
      "       'Generosity', 'Dystopia Residual'],\n",
      "      dtype='object')\n",
      "-----\n",
      "\n",
      "2016\n",
      "Index(['Country', 'Region', 'Happiness Rank', 'Happiness Score',\n",
      "       'Lower Confidence Interval', 'Upper Confidence Interval',\n",
      "       'Economy (GDP per Capita)', 'Family', 'Health (Life Expectancy)',\n",
      "       'Freedom', 'Trust (Government Corruption)', 'Generosity',\n",
      "       'Dystopia Residual'],\n",
      "      dtype='object')\n",
      "-----\n",
      "\n",
      "2017\n",
      "Index(['Country', 'Happiness.Rank', 'Happiness.Score', 'Whisker.high',\n",
      "       'Whisker.low', 'Economy..GDP.per.Capita.', 'Family',\n",
      "       'Health..Life.Expectancy.', 'Freedom', 'Generosity',\n",
      "       'Trust..Government.Corruption.', 'Dystopia.Residual'],\n",
      "      dtype='object')\n",
      "-----\n",
      "\n",
      "2018\n",
      "Index(['Overall rank', 'Country or region', 'Score', 'GDP per capita',\n",
      "       'Social support', 'Healthy life expectancy',\n",
      "       'Freedom to make life choices', 'Generosity',\n",
      "       'Perceptions of corruption'],\n",
      "      dtype='object')\n",
      "-----\n",
      "\n",
      "2019\n",
      "Index(['Overall rank', 'Country or region', 'Score', 'GDP per capita',\n",
      "       'Social support', 'Healthy life expectancy',\n",
      "       'Freedom to make life choices', 'Generosity',\n",
      "       'Perceptions of corruption'],\n",
      "      dtype='object')\n",
      "-----\n",
      "\n"
     ]
    }
   ],
   "source": [
    "# inspecting table columns\n",
    "for i in range(len(year)):\n",
    "    print(f'{year[i]}\\n{happyyear[year[i]].columns}\\n-----\\n')"
   ]
  },
  {
   "cell_type": "code",
   "execution_count": 4,
   "metadata": {},
   "outputs": [],
   "source": [
    "# removing columns that are not common across all years\n",
    "happyyear['2015']=happyyear['2015'].drop(['Region','Standard Error','Dystopia Residual'],axis=1)\n",
    "happyyear['2016']=happyyear['2016'].drop(['Region','Lower Confidence Interval','Upper Confidence Interval','Dystopia Residual'],axis=1)\n",
    "happyyear['2017']=happyyear['2017'].drop(['Whisker.high','Whisker.low','Dystopia.Residual'],axis=1)"
   ]
  },
  {
   "cell_type": "code",
   "execution_count": 5,
   "metadata": {},
   "outputs": [
    {
     "name": "stdout",
     "output_type": "stream",
     "text": [
      "Index(['Country', 'Happiness.Rank', 'Happiness.Score',\n",
      "       'Economy..GDP.per.Capita.', 'Family', 'Health..Life.Expectancy.',\n",
      "       'Freedom', 'Trust..Government.Corruption.', 'Generosity'],\n",
      "      dtype='object')\n"
     ]
    }
   ],
   "source": [
    "# rearranging table columns so that they match across years\n",
    "col2017=happyyear['2017'].columns.tolist()\n",
    "col2017=col2017[:-2]+col2017[-1:]+col2017[-2:-1]\n",
    "happyyear['2017']=happyyear['2017'][col2017]\n",
    "print(happyyear['2017'].columns)"
   ]
  },
  {
   "cell_type": "code",
   "execution_count": 6,
   "metadata": {},
   "outputs": [
    {
     "name": "stdout",
     "output_type": "stream",
     "text": [
      "Index(['Country or region', 'Overall rank', 'Score', 'GDP per capita',\n",
      "       'Social support', 'Healthy life expectancy',\n",
      "       'Freedom to make life choices', 'Perceptions of corruption',\n",
      "       'Generosity'],\n",
      "      dtype='object')\n"
     ]
    }
   ],
   "source": [
    "# rearranging table columns so that they match across years\n",
    "col2018=happyyear['2018'].columns.tolist()\n",
    "col2018=col2018[1:2]+col2018[0:1]+col2018[2:-2]+col2018[-1:]+col2018[-2:-1]\n",
    "happyyear['2018']=happyyear['2018'][col2018]\n",
    "happyyear['2019']=happyyear['2019'][col2018]\n",
    "print(happyyear['2018'].columns)"
   ]
  },
  {
   "cell_type": "code",
   "execution_count": 7,
   "metadata": {},
   "outputs": [],
   "source": [
    "# renaming columns\n",
    "for i in range(len(year)):\n",
    "    happyyear[year[i]].columns=['country','happiness_rank',\\\n",
    "                               'happiness_score','economy',\\\n",
    "                               'social','health','freedom',\\\n",
    "                                'trust','generosity']\n",
    "    happyyear[year[i]]['year']=year[i]\n",
    "    #happyyear[year[i]]=happyyear[year[i]].rename(columns=lambda x:x+'_'+year[i])"
   ]
  },
  {
   "cell_type": "code",
   "execution_count": 8,
   "metadata": {},
   "outputs": [
    {
     "data": {
      "text/html": [
       "<div>\n",
       "<style scoped>\n",
       "    .dataframe tbody tr th:only-of-type {\n",
       "        vertical-align: middle;\n",
       "    }\n",
       "\n",
       "    .dataframe tbody tr th {\n",
       "        vertical-align: top;\n",
       "    }\n",
       "\n",
       "    .dataframe thead th {\n",
       "        text-align: right;\n",
       "    }\n",
       "</style>\n",
       "<table border=\"1\" class=\"dataframe\">\n",
       "  <thead>\n",
       "    <tr style=\"text-align: right;\">\n",
       "      <th></th>\n",
       "      <th>country</th>\n",
       "      <th>happiness_rank</th>\n",
       "      <th>happiness_score</th>\n",
       "      <th>economy</th>\n",
       "      <th>social</th>\n",
       "      <th>health</th>\n",
       "      <th>freedom</th>\n",
       "      <th>trust</th>\n",
       "      <th>generosity</th>\n",
       "      <th>year</th>\n",
       "    </tr>\n",
       "  </thead>\n",
       "  <tbody>\n",
       "    <tr>\n",
       "      <th>0</th>\n",
       "      <td>Switzerland</td>\n",
       "      <td>1</td>\n",
       "      <td>7.587</td>\n",
       "      <td>1.39651</td>\n",
       "      <td>1.34951</td>\n",
       "      <td>0.94143</td>\n",
       "      <td>0.66557</td>\n",
       "      <td>0.41978</td>\n",
       "      <td>0.29678</td>\n",
       "      <td>2015</td>\n",
       "    </tr>\n",
       "    <tr>\n",
       "      <th>1</th>\n",
       "      <td>Iceland</td>\n",
       "      <td>2</td>\n",
       "      <td>7.561</td>\n",
       "      <td>1.30232</td>\n",
       "      <td>1.40223</td>\n",
       "      <td>0.94784</td>\n",
       "      <td>0.62877</td>\n",
       "      <td>0.14145</td>\n",
       "      <td>0.43630</td>\n",
       "      <td>2015</td>\n",
       "    </tr>\n",
       "    <tr>\n",
       "      <th>2</th>\n",
       "      <td>Denmark</td>\n",
       "      <td>3</td>\n",
       "      <td>7.527</td>\n",
       "      <td>1.32548</td>\n",
       "      <td>1.36058</td>\n",
       "      <td>0.87464</td>\n",
       "      <td>0.64938</td>\n",
       "      <td>0.48357</td>\n",
       "      <td>0.34139</td>\n",
       "      <td>2015</td>\n",
       "    </tr>\n",
       "    <tr>\n",
       "      <th>3</th>\n",
       "      <td>Norway</td>\n",
       "      <td>4</td>\n",
       "      <td>7.522</td>\n",
       "      <td>1.45900</td>\n",
       "      <td>1.33095</td>\n",
       "      <td>0.88521</td>\n",
       "      <td>0.66973</td>\n",
       "      <td>0.36503</td>\n",
       "      <td>0.34699</td>\n",
       "      <td>2015</td>\n",
       "    </tr>\n",
       "    <tr>\n",
       "      <th>4</th>\n",
       "      <td>Canada</td>\n",
       "      <td>5</td>\n",
       "      <td>7.427</td>\n",
       "      <td>1.32629</td>\n",
       "      <td>1.32261</td>\n",
       "      <td>0.90563</td>\n",
       "      <td>0.63297</td>\n",
       "      <td>0.32957</td>\n",
       "      <td>0.45811</td>\n",
       "      <td>2015</td>\n",
       "    </tr>\n",
       "    <tr>\n",
       "      <th>...</th>\n",
       "      <td>...</td>\n",
       "      <td>...</td>\n",
       "      <td>...</td>\n",
       "      <td>...</td>\n",
       "      <td>...</td>\n",
       "      <td>...</td>\n",
       "      <td>...</td>\n",
       "      <td>...</td>\n",
       "      <td>...</td>\n",
       "      <td>...</td>\n",
       "    </tr>\n",
       "    <tr>\n",
       "      <th>777</th>\n",
       "      <td>Rwanda</td>\n",
       "      <td>152</td>\n",
       "      <td>3.334</td>\n",
       "      <td>0.35900</td>\n",
       "      <td>0.71100</td>\n",
       "      <td>0.61400</td>\n",
       "      <td>0.55500</td>\n",
       "      <td>0.41100</td>\n",
       "      <td>0.21700</td>\n",
       "      <td>2019</td>\n",
       "    </tr>\n",
       "    <tr>\n",
       "      <th>778</th>\n",
       "      <td>Tanzania</td>\n",
       "      <td>153</td>\n",
       "      <td>3.231</td>\n",
       "      <td>0.47600</td>\n",
       "      <td>0.88500</td>\n",
       "      <td>0.49900</td>\n",
       "      <td>0.41700</td>\n",
       "      <td>0.14700</td>\n",
       "      <td>0.27600</td>\n",
       "      <td>2019</td>\n",
       "    </tr>\n",
       "    <tr>\n",
       "      <th>779</th>\n",
       "      <td>Afghanistan</td>\n",
       "      <td>154</td>\n",
       "      <td>3.203</td>\n",
       "      <td>0.35000</td>\n",
       "      <td>0.51700</td>\n",
       "      <td>0.36100</td>\n",
       "      <td>0.00000</td>\n",
       "      <td>0.02500</td>\n",
       "      <td>0.15800</td>\n",
       "      <td>2019</td>\n",
       "    </tr>\n",
       "    <tr>\n",
       "      <th>780</th>\n",
       "      <td>Central African Republic</td>\n",
       "      <td>155</td>\n",
       "      <td>3.083</td>\n",
       "      <td>0.02600</td>\n",
       "      <td>0.00000</td>\n",
       "      <td>0.10500</td>\n",
       "      <td>0.22500</td>\n",
       "      <td>0.03500</td>\n",
       "      <td>0.23500</td>\n",
       "      <td>2019</td>\n",
       "    </tr>\n",
       "    <tr>\n",
       "      <th>781</th>\n",
       "      <td>South Sudan</td>\n",
       "      <td>156</td>\n",
       "      <td>2.853</td>\n",
       "      <td>0.30600</td>\n",
       "      <td>0.57500</td>\n",
       "      <td>0.29500</td>\n",
       "      <td>0.01000</td>\n",
       "      <td>0.09100</td>\n",
       "      <td>0.20200</td>\n",
       "      <td>2019</td>\n",
       "    </tr>\n",
       "  </tbody>\n",
       "</table>\n",
       "<p>782 rows × 10 columns</p>\n",
       "</div>"
      ],
      "text/plain": [
       "                      country  happiness_rank  happiness_score  economy  \\\n",
       "0                 Switzerland               1            7.587  1.39651   \n",
       "1                     Iceland               2            7.561  1.30232   \n",
       "2                     Denmark               3            7.527  1.32548   \n",
       "3                      Norway               4            7.522  1.45900   \n",
       "4                      Canada               5            7.427  1.32629   \n",
       "..                        ...             ...              ...      ...   \n",
       "777                    Rwanda             152            3.334  0.35900   \n",
       "778                  Tanzania             153            3.231  0.47600   \n",
       "779               Afghanistan             154            3.203  0.35000   \n",
       "780  Central African Republic             155            3.083  0.02600   \n",
       "781               South Sudan             156            2.853  0.30600   \n",
       "\n",
       "      social   health  freedom    trust  generosity  year  \n",
       "0    1.34951  0.94143  0.66557  0.41978     0.29678  2015  \n",
       "1    1.40223  0.94784  0.62877  0.14145     0.43630  2015  \n",
       "2    1.36058  0.87464  0.64938  0.48357     0.34139  2015  \n",
       "3    1.33095  0.88521  0.66973  0.36503     0.34699  2015  \n",
       "4    1.32261  0.90563  0.63297  0.32957     0.45811  2015  \n",
       "..       ...      ...      ...      ...         ...   ...  \n",
       "777  0.71100  0.61400  0.55500  0.41100     0.21700  2019  \n",
       "778  0.88500  0.49900  0.41700  0.14700     0.27600  2019  \n",
       "779  0.51700  0.36100  0.00000  0.02500     0.15800  2019  \n",
       "780  0.00000  0.10500  0.22500  0.03500     0.23500  2019  \n",
       "781  0.57500  0.29500  0.01000  0.09100     0.20200  2019  \n",
       "\n",
       "[782 rows x 10 columns]"
      ]
     },
     "execution_count": 8,
     "metadata": {},
     "output_type": "execute_result"
    }
   ],
   "source": [
    "# concat all 5 years worth of happiness data into a single df\n",
    "happyall=pd.concat([happyyear['2015'],happyyear['2016'],happyyear['2017'],happyyear['2018'],happyyear['2019']],axis=0)\n",
    "happyall=happyall.reset_index(drop=True)\n",
    "happyall"
   ]
  },
  {
   "cell_type": "code",
   "execution_count": 9,
   "metadata": {},
   "outputs": [
    {
     "name": "stdout",
     "output_type": "stream",
     "text": [
      "Angola-4\n",
      "Belize-3\n",
      "Central African Republic-4\n",
      "Comoros-3\n",
      "Djibouti-1\n",
      "Gambia-1\n",
      "Hong Kong-4\n",
      "Hong Kong S.A.R., China-1\n",
      "Laos-4\n",
      "Lesotho-4\n",
      "Macedonia-4\n",
      "Mozambique-4\n",
      "Namibia-4\n",
      "North Cyprus-3\n",
      "North Macedonia-1\n",
      "Northern Cyprus-2\n",
      "Oman-1\n",
      "Puerto Rico-1\n",
      "Somalia-4\n",
      "Somaliland Region-1\n",
      "Somaliland region-1\n",
      "South Sudan-4\n",
      "Sudan-4\n",
      "Suriname-2\n",
      "Swaziland-2\n",
      "Taiwan-4\n",
      "Taiwan Province of China-1\n",
      "Trinidad & Tobago-2\n",
      "Trinidad and Tobago-3\n"
     ]
    }
   ],
   "source": [
    "# find countries without all five years of data\n",
    "countrycount=pd.DataFrame(happyall.groupby('country')['year'].count())\n",
    "for ind,row in countrycount.iterrows():\n",
    "    if row['year']!=5:\n",
    "        print(f'{ind}-{row[\"year\"]}')"
   ]
  },
  {
   "cell_type": "code",
   "execution_count": 10,
   "metadata": {},
   "outputs": [],
   "source": [
    "# replace problematic country names\n",
    "happyall['country'] = happyall['country'].replace(\\\n",
    "    ['Hong Kong S.A.R., China','Northern Cyprus', 'Somaliland region','Taiwan Province of China','Trinidad & Tobago'],\\\n",
    "    ['Hong Kong','North Cyprus','Somaliland Region','Taiwan','Trinidad and Tobago'])"
   ]
  },
  {
   "cell_type": "code",
   "execution_count": 11,
   "metadata": {},
   "outputs": [],
   "source": [
    "# drop countries without all five years of data\n",
    "countrycount=pd.DataFrame(happyall.groupby('country')['year'].count())\n",
    "countrycount\n",
    "for ind,row in countrycount.iterrows():\n",
    "    if row['year']!=5:\n",
    "        happyall=happyall[happyall.country!=ind]"
   ]
  },
  {
   "cell_type": "code",
   "execution_count": 12,
   "metadata": {},
   "outputs": [
    {
     "data": {
      "text/html": [
       "<div>\n",
       "<style scoped>\n",
       "    .dataframe tbody tr th:only-of-type {\n",
       "        vertical-align: middle;\n",
       "    }\n",
       "\n",
       "    .dataframe tbody tr th {\n",
       "        vertical-align: top;\n",
       "    }\n",
       "\n",
       "    .dataframe thead th {\n",
       "        text-align: right;\n",
       "    }\n",
       "</style>\n",
       "<table border=\"1\" class=\"dataframe\">\n",
       "  <thead>\n",
       "    <tr style=\"text-align: right;\">\n",
       "      <th></th>\n",
       "      <th>country</th>\n",
       "      <th>happiness_rank</th>\n",
       "      <th>happiness_score</th>\n",
       "      <th>economy</th>\n",
       "      <th>social</th>\n",
       "      <th>health</th>\n",
       "      <th>freedom</th>\n",
       "      <th>trust</th>\n",
       "      <th>generosity</th>\n",
       "      <th>year</th>\n",
       "    </tr>\n",
       "  </thead>\n",
       "  <tbody>\n",
       "    <tr>\n",
       "      <th>0</th>\n",
       "      <td>Switzerland</td>\n",
       "      <td>1</td>\n",
       "      <td>7.587</td>\n",
       "      <td>1.39651</td>\n",
       "      <td>1.34951</td>\n",
       "      <td>0.94143</td>\n",
       "      <td>0.66557</td>\n",
       "      <td>0.41978</td>\n",
       "      <td>0.29678</td>\n",
       "      <td>2015</td>\n",
       "    </tr>\n",
       "    <tr>\n",
       "      <th>1</th>\n",
       "      <td>Iceland</td>\n",
       "      <td>2</td>\n",
       "      <td>7.561</td>\n",
       "      <td>1.30232</td>\n",
       "      <td>1.40223</td>\n",
       "      <td>0.94784</td>\n",
       "      <td>0.62877</td>\n",
       "      <td>0.14145</td>\n",
       "      <td>0.43630</td>\n",
       "      <td>2015</td>\n",
       "    </tr>\n",
       "    <tr>\n",
       "      <th>2</th>\n",
       "      <td>Denmark</td>\n",
       "      <td>3</td>\n",
       "      <td>7.527</td>\n",
       "      <td>1.32548</td>\n",
       "      <td>1.36058</td>\n",
       "      <td>0.87464</td>\n",
       "      <td>0.64938</td>\n",
       "      <td>0.48357</td>\n",
       "      <td>0.34139</td>\n",
       "      <td>2015</td>\n",
       "    </tr>\n",
       "    <tr>\n",
       "      <th>3</th>\n",
       "      <td>Norway</td>\n",
       "      <td>4</td>\n",
       "      <td>7.522</td>\n",
       "      <td>1.45900</td>\n",
       "      <td>1.33095</td>\n",
       "      <td>0.88521</td>\n",
       "      <td>0.66973</td>\n",
       "      <td>0.36503</td>\n",
       "      <td>0.34699</td>\n",
       "      <td>2015</td>\n",
       "    </tr>\n",
       "    <tr>\n",
       "      <th>4</th>\n",
       "      <td>Canada</td>\n",
       "      <td>5</td>\n",
       "      <td>7.427</td>\n",
       "      <td>1.32629</td>\n",
       "      <td>1.32261</td>\n",
       "      <td>0.90563</td>\n",
       "      <td>0.63297</td>\n",
       "      <td>0.32957</td>\n",
       "      <td>0.45811</td>\n",
       "      <td>2015</td>\n",
       "    </tr>\n",
       "    <tr>\n",
       "      <th>...</th>\n",
       "      <td>...</td>\n",
       "      <td>...</td>\n",
       "      <td>...</td>\n",
       "      <td>...</td>\n",
       "      <td>...</td>\n",
       "      <td>...</td>\n",
       "      <td>...</td>\n",
       "      <td>...</td>\n",
       "      <td>...</td>\n",
       "      <td>...</td>\n",
       "    </tr>\n",
       "    <tr>\n",
       "      <th>775</th>\n",
       "      <td>Malawi</td>\n",
       "      <td>150</td>\n",
       "      <td>3.410</td>\n",
       "      <td>0.19100</td>\n",
       "      <td>0.56000</td>\n",
       "      <td>0.49500</td>\n",
       "      <td>0.44300</td>\n",
       "      <td>0.08900</td>\n",
       "      <td>0.21800</td>\n",
       "      <td>2019</td>\n",
       "    </tr>\n",
       "    <tr>\n",
       "      <th>776</th>\n",
       "      <td>Yemen</td>\n",
       "      <td>151</td>\n",
       "      <td>3.380</td>\n",
       "      <td>0.28700</td>\n",
       "      <td>1.16300</td>\n",
       "      <td>0.46300</td>\n",
       "      <td>0.14300</td>\n",
       "      <td>0.07700</td>\n",
       "      <td>0.10800</td>\n",
       "      <td>2019</td>\n",
       "    </tr>\n",
       "    <tr>\n",
       "      <th>777</th>\n",
       "      <td>Rwanda</td>\n",
       "      <td>152</td>\n",
       "      <td>3.334</td>\n",
       "      <td>0.35900</td>\n",
       "      <td>0.71100</td>\n",
       "      <td>0.61400</td>\n",
       "      <td>0.55500</td>\n",
       "      <td>0.41100</td>\n",
       "      <td>0.21700</td>\n",
       "      <td>2019</td>\n",
       "    </tr>\n",
       "    <tr>\n",
       "      <th>778</th>\n",
       "      <td>Tanzania</td>\n",
       "      <td>153</td>\n",
       "      <td>3.231</td>\n",
       "      <td>0.47600</td>\n",
       "      <td>0.88500</td>\n",
       "      <td>0.49900</td>\n",
       "      <td>0.41700</td>\n",
       "      <td>0.14700</td>\n",
       "      <td>0.27600</td>\n",
       "      <td>2019</td>\n",
       "    </tr>\n",
       "    <tr>\n",
       "      <th>779</th>\n",
       "      <td>Afghanistan</td>\n",
       "      <td>154</td>\n",
       "      <td>3.203</td>\n",
       "      <td>0.35000</td>\n",
       "      <td>0.51700</td>\n",
       "      <td>0.36100</td>\n",
       "      <td>0.00000</td>\n",
       "      <td>0.02500</td>\n",
       "      <td>0.15800</td>\n",
       "      <td>2019</td>\n",
       "    </tr>\n",
       "  </tbody>\n",
       "</table>\n",
       "<p>725 rows × 10 columns</p>\n",
       "</div>"
      ],
      "text/plain": [
       "         country  happiness_rank  happiness_score  economy   social   health  \\\n",
       "0    Switzerland               1            7.587  1.39651  1.34951  0.94143   \n",
       "1        Iceland               2            7.561  1.30232  1.40223  0.94784   \n",
       "2        Denmark               3            7.527  1.32548  1.36058  0.87464   \n",
       "3         Norway               4            7.522  1.45900  1.33095  0.88521   \n",
       "4         Canada               5            7.427  1.32629  1.32261  0.90563   \n",
       "..           ...             ...              ...      ...      ...      ...   \n",
       "775       Malawi             150            3.410  0.19100  0.56000  0.49500   \n",
       "776        Yemen             151            3.380  0.28700  1.16300  0.46300   \n",
       "777       Rwanda             152            3.334  0.35900  0.71100  0.61400   \n",
       "778     Tanzania             153            3.231  0.47600  0.88500  0.49900   \n",
       "779  Afghanistan             154            3.203  0.35000  0.51700  0.36100   \n",
       "\n",
       "     freedom    trust  generosity  year  \n",
       "0    0.66557  0.41978     0.29678  2015  \n",
       "1    0.62877  0.14145     0.43630  2015  \n",
       "2    0.64938  0.48357     0.34139  2015  \n",
       "3    0.66973  0.36503     0.34699  2015  \n",
       "4    0.63297  0.32957     0.45811  2015  \n",
       "..       ...      ...         ...   ...  \n",
       "775  0.44300  0.08900     0.21800  2019  \n",
       "776  0.14300  0.07700     0.10800  2019  \n",
       "777  0.55500  0.41100     0.21700  2019  \n",
       "778  0.41700  0.14700     0.27600  2019  \n",
       "779  0.00000  0.02500     0.15800  2019  \n",
       "\n",
       "[725 rows x 10 columns]"
      ]
     },
     "execution_count": 12,
     "metadata": {},
     "output_type": "execute_result"
    }
   ],
   "source": [
    "happyall"
   ]
  },
  {
   "cell_type": "code",
   "execution_count": 13,
   "metadata": {},
   "outputs": [],
   "source": [
    "# import continent csv\n",
    "continent=os.path.join('..','data','country-and-continent-codes-list-csv_csv.csv')\n",
    "continent_df=pd.read_csv(continent)"
   ]
  },
  {
   "cell_type": "code",
   "execution_count": 14,
   "metadata": {},
   "outputs": [
    {
     "data": {
      "text/html": [
       "<div>\n",
       "<style scoped>\n",
       "    .dataframe tbody tr th:only-of-type {\n",
       "        vertical-align: middle;\n",
       "    }\n",
       "\n",
       "    .dataframe tbody tr th {\n",
       "        vertical-align: top;\n",
       "    }\n",
       "\n",
       "    .dataframe thead th {\n",
       "        text-align: right;\n",
       "    }\n",
       "</style>\n",
       "<table border=\"1\" class=\"dataframe\">\n",
       "  <thead>\n",
       "    <tr style=\"text-align: right;\">\n",
       "      <th></th>\n",
       "      <th>Continent_Name</th>\n",
       "      <th>Continent_Code</th>\n",
       "      <th>Country_Name</th>\n",
       "      <th>Two_Letter_Country_Code</th>\n",
       "      <th>Three_Letter_Country_Code</th>\n",
       "      <th>Country_Number</th>\n",
       "    </tr>\n",
       "  </thead>\n",
       "  <tbody>\n",
       "    <tr>\n",
       "      <th>0</th>\n",
       "      <td>Asia</td>\n",
       "      <td>AS</td>\n",
       "      <td>Afghanistan, Islamic Republic of</td>\n",
       "      <td>AF</td>\n",
       "      <td>AFG</td>\n",
       "      <td>4.0</td>\n",
       "    </tr>\n",
       "    <tr>\n",
       "      <th>1</th>\n",
       "      <td>Europe</td>\n",
       "      <td>EU</td>\n",
       "      <td>Albania, Republic of</td>\n",
       "      <td>AL</td>\n",
       "      <td>ALB</td>\n",
       "      <td>8.0</td>\n",
       "    </tr>\n",
       "    <tr>\n",
       "      <th>2</th>\n",
       "      <td>Antarctica</td>\n",
       "      <td>AN</td>\n",
       "      <td>Antarctica (the territory South of 60 deg S)</td>\n",
       "      <td>AQ</td>\n",
       "      <td>ATA</td>\n",
       "      <td>10.0</td>\n",
       "    </tr>\n",
       "    <tr>\n",
       "      <th>3</th>\n",
       "      <td>Africa</td>\n",
       "      <td>AF</td>\n",
       "      <td>Algeria, People's Democratic Republic of</td>\n",
       "      <td>DZ</td>\n",
       "      <td>DZA</td>\n",
       "      <td>12.0</td>\n",
       "    </tr>\n",
       "    <tr>\n",
       "      <th>4</th>\n",
       "      <td>Oceania</td>\n",
       "      <td>OC</td>\n",
       "      <td>American Samoa</td>\n",
       "      <td>AS</td>\n",
       "      <td>ASM</td>\n",
       "      <td>16.0</td>\n",
       "    </tr>\n",
       "  </tbody>\n",
       "</table>\n",
       "</div>"
      ],
      "text/plain": [
       "  Continent_Name Continent_Code                                  Country_Name  \\\n",
       "0           Asia             AS              Afghanistan, Islamic Republic of   \n",
       "1         Europe             EU                          Albania, Republic of   \n",
       "2     Antarctica             AN  Antarctica (the territory South of 60 deg S)   \n",
       "3         Africa             AF      Algeria, People's Democratic Republic of   \n",
       "4        Oceania             OC                                American Samoa   \n",
       "\n",
       "  Two_Letter_Country_Code Three_Letter_Country_Code  Country_Number  \n",
       "0                      AF                       AFG             4.0  \n",
       "1                      AL                       ALB             8.0  \n",
       "2                      AQ                       ATA            10.0  \n",
       "3                      DZ                       DZA            12.0  \n",
       "4                      AS                       ASM            16.0  "
      ]
     },
     "execution_count": 14,
     "metadata": {},
     "output_type": "execute_result"
    }
   ],
   "source": [
    "# drop duplicate country code\n",
    "continent_df=continent_df.drop_duplicates(subset =[\"Three_Letter_Country_Code\"], \n",
    "                     keep = 'first')\n",
    "continent_df.head()"
   ]
  },
  {
   "cell_type": "code",
   "execution_count": 15,
   "metadata": {},
   "outputs": [
    {
     "data": {
      "text/html": [
       "<div>\n",
       "<style scoped>\n",
       "    .dataframe tbody tr th:only-of-type {\n",
       "        vertical-align: middle;\n",
       "    }\n",
       "\n",
       "    .dataframe tbody tr th {\n",
       "        vertical-align: top;\n",
       "    }\n",
       "\n",
       "    .dataframe thead th {\n",
       "        text-align: right;\n",
       "    }\n",
       "</style>\n",
       "<table border=\"1\" class=\"dataframe\">\n",
       "  <thead>\n",
       "    <tr style=\"text-align: right;\">\n",
       "      <th></th>\n",
       "      <th>Continent_Name</th>\n",
       "      <th>Continent_Code</th>\n",
       "      <th>Country_Name</th>\n",
       "      <th>Two_Letter_Country_Code</th>\n",
       "      <th>Three_Letter_Country_Code</th>\n",
       "      <th>Country_Number</th>\n",
       "    </tr>\n",
       "  </thead>\n",
       "  <tbody>\n",
       "    <tr>\n",
       "      <th>0</th>\n",
       "      <td>Asia</td>\n",
       "      <td>AS</td>\n",
       "      <td>Afghanistan</td>\n",
       "      <td>AF</td>\n",
       "      <td>AFG</td>\n",
       "      <td>4.0</td>\n",
       "    </tr>\n",
       "    <tr>\n",
       "      <th>1</th>\n",
       "      <td>Europe</td>\n",
       "      <td>EU</td>\n",
       "      <td>Albania</td>\n",
       "      <td>AL</td>\n",
       "      <td>ALB</td>\n",
       "      <td>8.0</td>\n",
       "    </tr>\n",
       "    <tr>\n",
       "      <th>2</th>\n",
       "      <td>Antarctica</td>\n",
       "      <td>AN</td>\n",
       "      <td>Antarctica</td>\n",
       "      <td>AQ</td>\n",
       "      <td>ATA</td>\n",
       "      <td>10.0</td>\n",
       "    </tr>\n",
       "    <tr>\n",
       "      <th>3</th>\n",
       "      <td>Africa</td>\n",
       "      <td>AF</td>\n",
       "      <td>Algeria</td>\n",
       "      <td>DZ</td>\n",
       "      <td>DZA</td>\n",
       "      <td>12.0</td>\n",
       "    </tr>\n",
       "    <tr>\n",
       "      <th>4</th>\n",
       "      <td>Oceania</td>\n",
       "      <td>OC</td>\n",
       "      <td>American Samoa</td>\n",
       "      <td>AS</td>\n",
       "      <td>ASM</td>\n",
       "      <td>16.0</td>\n",
       "    </tr>\n",
       "    <tr>\n",
       "      <th>...</th>\n",
       "      <td>...</td>\n",
       "      <td>...</td>\n",
       "      <td>...</td>\n",
       "      <td>...</td>\n",
       "      <td>...</td>\n",
       "      <td>...</td>\n",
       "    </tr>\n",
       "    <tr>\n",
       "      <th>254</th>\n",
       "      <td>Oceania</td>\n",
       "      <td>OC</td>\n",
       "      <td>Wallis and Futuna</td>\n",
       "      <td>WF</td>\n",
       "      <td>WLF</td>\n",
       "      <td>876.0</td>\n",
       "    </tr>\n",
       "    <tr>\n",
       "      <th>255</th>\n",
       "      <td>Oceania</td>\n",
       "      <td>OC</td>\n",
       "      <td>Samoa</td>\n",
       "      <td>WS</td>\n",
       "      <td>WSM</td>\n",
       "      <td>882.0</td>\n",
       "    </tr>\n",
       "    <tr>\n",
       "      <th>256</th>\n",
       "      <td>Asia</td>\n",
       "      <td>AS</td>\n",
       "      <td>Yemen</td>\n",
       "      <td>YE</td>\n",
       "      <td>YEM</td>\n",
       "      <td>887.0</td>\n",
       "    </tr>\n",
       "    <tr>\n",
       "      <th>257</th>\n",
       "      <td>Africa</td>\n",
       "      <td>AF</td>\n",
       "      <td>Zambia</td>\n",
       "      <td>ZM</td>\n",
       "      <td>ZMB</td>\n",
       "      <td>894.0</td>\n",
       "    </tr>\n",
       "    <tr>\n",
       "      <th>258</th>\n",
       "      <td>Oceania</td>\n",
       "      <td>OC</td>\n",
       "      <td>Disputed Territory</td>\n",
       "      <td>XX</td>\n",
       "      <td>NaN</td>\n",
       "      <td>NaN</td>\n",
       "    </tr>\n",
       "  </tbody>\n",
       "</table>\n",
       "<p>251 rows × 6 columns</p>\n",
       "</div>"
      ],
      "text/plain": [
       "    Continent_Name Continent_Code        Country_Name Two_Letter_Country_Code  \\\n",
       "0             Asia             AS         Afghanistan                      AF   \n",
       "1           Europe             EU             Albania                      AL   \n",
       "2       Antarctica             AN         Antarctica                       AQ   \n",
       "3           Africa             AF             Algeria                      DZ   \n",
       "4          Oceania             OC      American Samoa                      AS   \n",
       "..             ...            ...                 ...                     ...   \n",
       "254        Oceania             OC   Wallis and Futuna                      WF   \n",
       "255        Oceania             OC               Samoa                      WS   \n",
       "256           Asia             AS               Yemen                      YE   \n",
       "257         Africa             AF              Zambia                      ZM   \n",
       "258        Oceania             OC  Disputed Territory                      XX   \n",
       "\n",
       "    Three_Letter_Country_Code  Country_Number  \n",
       "0                         AFG             4.0  \n",
       "1                         ALB             8.0  \n",
       "2                         ATA            10.0  \n",
       "3                         DZA            12.0  \n",
       "4                         ASM            16.0  \n",
       "..                        ...             ...  \n",
       "254                       WLF           876.0  \n",
       "255                       WSM           882.0  \n",
       "256                       YEM           887.0  \n",
       "257                       ZMB           894.0  \n",
       "258                       NaN             NaN  \n",
       "\n",
       "[251 rows x 6 columns]"
      ]
     },
     "execution_count": 15,
     "metadata": {},
     "output_type": "execute_result"
    }
   ],
   "source": [
    "for ind,row in continent_df.iterrows():\n",
    "    continent_df.loc[ind,'Country_Name']=continent_df.loc[ind,'Country_Name'].split(',')[0]\n",
    "    continent_df.loc[ind,'Country_Name']=continent_df.loc[ind,'Country_Name'].split('(')[0]\n",
    "continent_df"
   ]
  },
  {
   "cell_type": "code",
   "execution_count": 16,
   "metadata": {},
   "outputs": [],
   "source": [
    "# replace countries with country code\n",
    "for ind,row in happyall.iterrows():\n",
    "    for ind2,row2 in continent_df.iterrows():\n",
    "        if row['country'].lower() in row2['Country_Name'].lower():\n",
    "            happyall.loc[ind,'country']=continent_df.loc[ind2,'Three_Letter_Country_Code']\n",
    "            break"
   ]
  },
  {
   "cell_type": "code",
   "execution_count": 17,
   "metadata": {},
   "outputs": [
    {
     "name": "stdout",
     "output_type": "stream",
     "text": [
      "['South Korea', 'North Cyprus', 'Kosovo', 'Kyrgyzstan', 'Palestinian Territories', 'Congo (Kinshasa)', 'Congo (Brazzaville)', 'Ivory Coast']\n"
     ]
    }
   ],
   "source": [
    "# find countries without a country code from the main dataframe\n",
    "miscountry=[]\n",
    "for i in happyall['country']:\n",
    "    if (len(i)>3) and i not in miscountry:\n",
    "        miscountry.append(i)\n",
    "print(miscountry)"
   ]
  },
  {
   "cell_type": "code",
   "execution_count": 18,
   "metadata": {},
   "outputs": [],
   "source": [
    "# invert match to capture countries that are named differently\n",
    "# ie. previous round looking for happyall country string within continent_df country, \n",
    "# now looking for continent_df country string within happyall country\n",
    "# takes care of situation such as happyall country of 'Congo (Brazzaville)' not in the continent_df country of 'Congo'\n",
    "for ind,row in continent_df.iterrows():\n",
    "    for j in miscountry:\n",
    "        if row['Country_Name'].lower().split(',')[0] in j.lower():\n",
    "            happyall['country']=happyall['country'].replace(j,continent_df.loc[ind,'Three_Letter_Country_Code'])"
   ]
  },
  {
   "cell_type": "code",
   "execution_count": 19,
   "metadata": {},
   "outputs": [
    {
     "name": "stdout",
     "output_type": "stream",
     "text": [
      "['Kosovo', 'Kyrgyzstan', 'Palestinian Territories', 'Ivory Coast']\n"
     ]
    }
   ],
   "source": [
    "# find all missed countries again\n",
    "miscountry=[]\n",
    "for i in happyall['country']:\n",
    "    if (len(i)>3) and i not in miscountry:\n",
    "        miscountry.append(i)\n",
    "print(miscountry)"
   ]
  },
  {
   "cell_type": "code",
   "execution_count": 20,
   "metadata": {},
   "outputs": [],
   "source": [
    "# last ditch attempt to get final few countries' alternate name by scrapping wiki\n",
    "from splinter import Browser\n",
    "from webdriver_manager.chrome import ChromeDriverManager\n",
    "from bs4 import BeautifulSoup\n",
    "executable_path={'executable_path':'/usr/local/bin/chromedriver'}\n",
    "browser=Browser('chrome',**executable_path,headless=False)\n",
    "altname=[None]*len(miscountry)\n",
    "for i in range(len(miscountry)):\n",
    "    url='http://wikipedia.org'\n",
    "    browser.visit(url)\n",
    "    browser.find_by_id('searchInput').fill(f'{miscountry[i]}\\n')\n",
    "    html=browser.html\n",
    "    soup=BeautifulSoup(html,'lxml')\n",
    "    result=soup.find_all('div', class_='country-name')\n",
    "    for r in result:\n",
    "        altname[i]=r.text\n",
    "browser.quit()"
   ]
  },
  {
   "cell_type": "code",
   "execution_count": 21,
   "metadata": {},
   "outputs": [
    {
     "name": "stdout",
     "output_type": "stream",
     "text": [
      "['Republic of Kosovo', 'Kyrgyz Republic', 'Palestinian territories', \"Republic of Côte d'Ivoire\"]\n"
     ]
    }
   ],
   "source": [
    "print(altname)"
   ]
  },
  {
   "cell_type": "code",
   "execution_count": 22,
   "metadata": {},
   "outputs": [],
   "source": [
    "for ind,row in continent_df.iterrows():\n",
    "    for j in range(len(miscountry)):\n",
    "        if row['Country_Name'].lower().split(',')[0] in altname[j].lower():\n",
    "            happyall['country']=happyall['country'].replace(miscountry[j],continent_df.loc[ind,'Three_Letter_Country_Code'])"
   ]
  },
  {
   "cell_type": "code",
   "execution_count": 23,
   "metadata": {},
   "outputs": [
    {
     "name": "stdout",
     "output_type": "stream",
     "text": [
      "['Kosovo', 'Palestinian Territories', 'Ivory Coast']\n"
     ]
    }
   ],
   "source": [
    "# still missed a few countries\n",
    "miscountry=[]\n",
    "for i in happyall['country']:\n",
    "    if (len(i)>3) and i not in miscountry:\n",
    "        miscountry.append(i)\n",
    "print(miscountry)"
   ]
  },
  {
   "cell_type": "code",
   "execution_count": 24,
   "metadata": {},
   "outputs": [],
   "source": [
    "# brute forcing it\n",
    "happyall['country'] = happyall['country'].replace(\\\n",
    "    ['Kosovo','Palestinian Territories', 'Ivory Coast'],\\\n",
    "    ['XKX','PSE','CIV'])"
   ]
  },
  {
   "cell_type": "code",
   "execution_count": 25,
   "metadata": {},
   "outputs": [
    {
     "name": "stdout",
     "output_type": "stream",
     "text": [
      "COG-10\n",
      "CYP-10\n"
     ]
    }
   ],
   "source": [
    "# find countries without five years of data\n",
    "countrycount=pd.DataFrame(happyall.groupby('country')['year'].count())\n",
    "countrycount\n",
    "for ind,row in countrycount.iterrows():\n",
    "    if row['year']!=5:\n",
    "        print(f'{ind}-{row[\"year\"]}')"
   ]
  },
  {
   "cell_type": "code",
   "execution_count": 26,
   "metadata": {},
   "outputs": [],
   "source": [
    "# problem resulted from there being both 'republic of conga' and 'democratic republic of conga'; \n",
    "# as well as 'cyprus' and 'northern cyprus'\n",
    "# should we drop?"
   ]
  },
  {
   "cell_type": "code",
   "execution_count": 27,
   "metadata": {},
   "outputs": [
    {
     "data": {
      "text/plain": [
       "143"
      ]
     },
     "execution_count": 27,
     "metadata": {},
     "output_type": "execute_result"
    }
   ],
   "source": [
    "# number of unique countries\n",
    "len(countrycount)"
   ]
  },
  {
   "cell_type": "code",
   "execution_count": 28,
   "metadata": {},
   "outputs": [
    {
     "data": {
      "text/plain": [
       "country            725\n",
       "happiness_rank     725\n",
       "happiness_score    725\n",
       "economy            725\n",
       "social             725\n",
       "health             725\n",
       "freedom            725\n",
       "trust              724\n",
       "generosity         725\n",
       "year               725\n",
       "dtype: int64"
      ]
     },
     "execution_count": 28,
     "metadata": {},
     "output_type": "execute_result"
    }
   ],
   "source": [
    "# check for missing values\n",
    "happyall.count()"
   ]
  },
  {
   "cell_type": "code",
   "execution_count": 29,
   "metadata": {},
   "outputs": [
    {
     "name": "stdout",
     "output_type": "stream",
     "text": [
      "ARE\n"
     ]
    },
    {
     "data": {
      "text/plain": [
       "country            720\n",
       "happiness_rank     720\n",
       "happiness_score    720\n",
       "economy            720\n",
       "social             720\n",
       "health             720\n",
       "freedom            720\n",
       "trust              720\n",
       "generosity         720\n",
       "year               720\n",
       "dtype: int64"
      ]
     },
     "execution_count": 29,
     "metadata": {},
     "output_type": "execute_result"
    }
   ],
   "source": [
    "# remove country with missing trust value\n",
    "for ind,row in happyall.iterrows():\n",
    "    try:\n",
    "        int(row['trust'])\n",
    "    except:\n",
    "        country=row['country']\n",
    "        print(row['country'])\n",
    "\n",
    "happyall=happyall[happyall.country!='ARE']\n",
    "happyall.count()"
   ]
  },
  {
   "cell_type": "code",
   "execution_count": 31,
   "metadata": {},
   "outputs": [
    {
     "ename": "NameError",
     "evalue": "name 'happy_pd' is not defined",
     "output_type": "error",
     "traceback": [
      "\u001b[0;31m---------------------------------------------------------------------------\u001b[0m",
      "\u001b[0;31mNameError\u001b[0m                                 Traceback (most recent call last)",
      "\u001b[0;32m<ipython-input-31-85342ef72fb4>\u001b[0m in \u001b[0;36m<module>\u001b[0;34m\u001b[0m\n\u001b[1;32m      1\u001b[0m \u001b[0;31m# Baili switch columns and rows\u001b[0m\u001b[0;34m\u001b[0m\u001b[0;34m\u001b[0m\u001b[0;34m\u001b[0m\u001b[0m\n\u001b[0;32m----> 2\u001b[0;31m \u001b[0mhappy_pd\u001b[0m \u001b[0;34m=\u001b[0m \u001b[0mhappy_pd\u001b[0m\u001b[0;34m.\u001b[0m\u001b[0mset_index\u001b[0m\u001b[0;34m(\u001b[0m\u001b[0;34m'country'\u001b[0m\u001b[0;34m)\u001b[0m\u001b[0;34m\u001b[0m\u001b[0;34m\u001b[0m\u001b[0m\n\u001b[0m\u001b[1;32m      3\u001b[0m \u001b[0;34m\u001b[0m\u001b[0m\n\u001b[1;32m      4\u001b[0m \u001b[0mhappy_pd\u001b[0m\u001b[0;34m.\u001b[0m\u001b[0mhead\u001b[0m\u001b[0;34m(\u001b[0m\u001b[0;34m)\u001b[0m\u001b[0;34m\u001b[0m\u001b[0;34m\u001b[0m\u001b[0m\n",
      "\u001b[0;31mNameError\u001b[0m: name 'happy_pd' is not defined"
     ]
    }
   ],
   "source": [
    "# Baili switch columns and rows\n",
    "happy_pd = happy_pd.set_index('country')\n",
    "\n",
    "happy_pd.head()"
   ]
  },
  {
   "cell_type": "code",
   "execution_count": null,
   "metadata": {},
   "outputs": [],
   "source": [
    "happy_pd = happy_pd.T\n",
    "happy_pd"
   ]
  },
  {
   "cell_type": "code",
   "execution_count": null,
   "metadata": {},
   "outputs": [],
   "source": [
    "a = happy_pd.index\n",
    "b = [x.split('_') for x in a]\n",
    "year = [b[i][-1] for i in range(len(b))]\n",
    "item = [b[i][-2] for i in range(len(b))]\n",
    "item"
   ]
  },
  {
   "cell_type": "code",
   "execution_count": null,
   "metadata": {},
   "outputs": [],
   "source": [
    "happy_pd['year'] = year\n",
    "happy_pd['item'] = item\n",
    "happy_pd"
   ]
  },
  {
   "cell_type": "code",
   "execution_count": null,
   "metadata": {},
   "outputs": [],
   "source": [
    "happy_pd = happy_pd.set_index([\"year\", \"item\"])"
   ]
  },
  {
   "cell_type": "code",
   "execution_count": null,
   "metadata": {},
   "outputs": [],
   "source": [
    "happy_pd"
   ]
  },
  {
   "cell_type": "code",
   "execution_count": null,
   "metadata": {},
   "outputs": [],
   "source": [
    "happy_pd.columns[0:14]"
   ]
  },
  {
   "cell_type": "code",
   "execution_count": null,
   "metadata": {},
   "outputs": [],
   "source": [
    "happy_pd_top15 = happy_pd[happy_pd.columns[0:14]]\n",
    "happy_pd_top15"
   ]
  },
  {
   "cell_type": "code",
   "execution_count": null,
   "metadata": {},
   "outputs": [],
   "source": [
    "happy_pd_2015 = happy_pd_top15.loc['2015',:]\n",
    "happy_pd_2015"
   ]
  },
  {
   "cell_type": "code",
   "execution_count": null,
   "metadata": {},
   "outputs": [],
   "source": [
    "import matplotlib.pyplot as plt"
   ]
  },
  {
   "cell_type": "code",
   "execution_count": null,
   "metadata": {},
   "outputs": [],
   "source": []
  }
 ],
 "metadata": {
  "kernelspec": {
   "display_name": "Python 3",
   "language": "python",
   "name": "python3"
  },
  "language_info": {
   "codemirror_mode": {
    "name": "ipython",
    "version": 3
   },
   "file_extension": ".py",
   "mimetype": "text/x-python",
   "name": "python",
   "nbconvert_exporter": "python",
   "pygments_lexer": "ipython3",
   "version": "3.7.7"
  }
 },
 "nbformat": 4,
 "nbformat_minor": 4
}
