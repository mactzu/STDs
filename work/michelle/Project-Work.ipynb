{
 "cells": [
  {
   "cell_type": "code",
   "execution_count": 1,
   "metadata": {},
   "outputs": [],
   "source": [
    "# import modules\n",
    "import pandas as pd\n"
   ]
  },
  {
   "cell_type": "markdown",
   "metadata": {},
   "source": []
  },
  {
   "cell_type": "code",
   "execution_count": 102,
   "metadata": {},
   "outputs": [
    {
     "name": "stdout",
     "output_type": "stream",
     "text": [
      "https://www.numbeo.com/cost-of-living/rankings_by_country.jsp?title=2015\n",
      "119\n",
      "https://www.numbeo.com/cost-of-living/rankings_by_country.jsp?title=2016\n",
      "122\n",
      "https://www.numbeo.com/cost-of-living/rankings_by_country.jsp?title=2017\n",
      "121\n",
      "https://www.numbeo.com/cost-of-living/rankings_by_country.jsp?title=2018\n",
      "115\n",
      "https://www.numbeo.com/cost-of-living/rankings_by_country.jsp?title=2019\n",
      "119\n"
     ]
    }
   ],
   "source": [
    "# Scrape data and check for number of records per year\n",
    "years = (2015, 2016, 2017, 2018, 2019)\n",
    "\n",
    "all_COLI_data = []\n",
    "\n",
    "for year in years:\n",
    "    url = 'https://www.numbeo.com/cost-of-living/rankings_by_country.jsp?title=' + str(year)\n",
    "    print(url)\n",
    "    COLI_data = pd.read_html(url)\n",
    "    print(len(COLI_data[2]))\n",
    "    all_COLI_data.append(COLI_data[2])\n"
   ]
  },
  {
   "cell_type": "code",
   "execution_count": 110,
   "metadata": {},
   "outputs": [],
   "source": [
    "# Drop null values\n",
    "all_COLI_data[0]=all_COLI_data[1].drop([\"Rank\"],axis=1)\n",
    "all_COLI_data[1]=all_COLI_data[1].drop([\"Rank\"],axis=1)\n",
    "all_COLI_data[2]=all_COLI_data[2].drop([\"Rank\"],axis=1)\n",
    "all_COLI_data[3]=all_COLI_data[3].drop([\"Rank\"],axis=1)\n",
    "all_COLI_data[4]=all_COLI_data[4].drop([\"Rank\"],axis=1)\n"
   ]
  },
  {
   "cell_type": "code",
   "execution_count": 115,
   "metadata": {},
   "outputs": [],
   "source": [
    "# Add year column into each dataframe\n",
    "all_COLI_data[0][\"Year\"] = [int(2015)]*len(all_COLI_data[0]) \n",
    "all_COLI_data[1][\"Year\"] = [int(2016)]*len(all_COLI_data[1]) \n",
    "all_COLI_data[2][\"Year\"] = [int(2017)]*len(all_COLI_data[2]) \n",
    "all_COLI_data[3][\"Year\"] = [int(2018)]*len(all_COLI_data[3]) \n",
    "all_COLI_data[4][\"Year\"] = [int(2019)]*len(all_COLI_data[4]) \n"
   ]
  },
  {
   "cell_type": "code",
   "execution_count": 123,
   "metadata": {},
   "outputs": [],
   "source": [
    "# Set Index"
   ]
  }
 ],
 "metadata": {
  "kernelspec": {
   "display_name": "Python 3.7.6 64-bit ('PythonData': conda)",
   "language": "python",
   "name": "python37664bitpythondataconda732d323569964bd9be2661eee657a7aa"
  },
  "language_info": {
   "codemirror_mode": {
    "name": "ipython",
    "version": 3
   },
   "file_extension": ".py",
   "mimetype": "text/x-python",
   "name": "python",
   "nbconvert_exporter": "python",
   "pygments_lexer": "ipython3",
   "version": "3.7.6"
  }
 },
 "nbformat": 4,
 "nbformat_minor": 4
}
