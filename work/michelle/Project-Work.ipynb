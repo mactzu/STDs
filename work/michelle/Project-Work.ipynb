{
 "cells": [
  {
   "cell_type": "markdown",
   "metadata": {},
   "source": []
  },
  {
   "cell_type": "code",
<<<<<<< HEAD
   "execution_count": 2,
=======
   "execution_count": 9,
>>>>>>> STDs
   "metadata": {},
   "outputs": [],
   "source": [
    "# import modules\n",
    "import pandas as pd\n",
    "import numpy as np\n"
   ]
  },
  {
   "cell_type": "code",
<<<<<<< HEAD
<<<<<<< HEAD
   "execution_count": 3,
=======
   "execution_count": 2,
>>>>>>> STDs
=======
   "execution_count": 92,
>>>>>>> STDs
   "metadata": {},
   "outputs": [
    {
     "name": "stdout",
     "output_type": "stream",
     "text": [
      "https://www.numbeo.com/cost-of-living/rankings_by_country.jsp?title=2015\n",
      "119\n",
      "https://www.numbeo.com/cost-of-living/rankings_by_country.jsp?title=2016\n",
      "122\n",
      "https://www.numbeo.com/cost-of-living/rankings_by_country.jsp?title=2017\n",
      "121\n",
      "https://www.numbeo.com/cost-of-living/rankings_by_country.jsp?title=2018\n",
      "115\n",
      "https://www.numbeo.com/cost-of-living/rankings_by_country.jsp?title=2019\n",
      "119\n"
     ]
    }
   ],
   "source": [
    "# scrape data and check for number of records per year\n",
    "years = (2015, 2016, 2017, 2018, 2019)\n",
    "\n",
    "all_COLI_data = []\n",
    "\n",
    "for year in years:\n",
    "    url = 'https://www.numbeo.com/cost-of-living/rankings_by_country.jsp?title=' + str(year)\n",
    "    print(url)\n",
    "    COLI_data = pd.read_html(url)\n",
    "    print(len(COLI_data[2]))\n",
    "    all_COLI_data.append(COLI_data[2])\n"
   ]
  },
  {
   "cell_type": "code",
<<<<<<< HEAD
<<<<<<< HEAD
   "execution_count": 4,
=======
   "execution_count": 14,
>>>>>>> STDs
=======
   "execution_count": 136,
   "metadata": {},
   "outputs": [],
   "source": [
    "# create a dataframe for each year\n",
    "COLI_df_2015 = pd.DataFrame(all_COLI_data[0])\n",
    "COLI_df_2016 = pd.DataFrame(all_COLI_data[1])\n",
    "COLI_df_2017 = pd.DataFrame(all_COLI_data[2])\n",
    "COLI_df_2018 = pd.DataFrame(all_COLI_data[3])\n",
    "COLI_df_2019 = pd.DataFrame(all_COLI_data[4])\n",
    "\n",
    "\n",
    "# add a column for year and assigning year value\n",
    "COLI_df_2015[\"Year\"] = [int(2015)]*len(all_COLI_data[0]) \n",
    "COLI_df_2016[\"Year\"] = [int(2016)]*len(all_COLI_data[1]) \n",
    "COLI_df_2017[\"Year\"] = [int(2017)]*len(all_COLI_data[2]) \n",
    "COLI_df_2018[\"Year\"] = [int(2018)]*len(all_COLI_data[3]) \n",
    "COLI_df_2019[\"Year\"] = [int(2019)]*len(all_COLI_data[4]) \n",
    "\n",
    "\n",
    "# reset the annual ranking based on row number\n",
    "COLI_df_2015[\"Rank\"] = np.arange(len(COLI_df_2015))\n",
    "COLI_df_2016[\"Rank\"] = np.arange(len(COLI_df_2016))\n",
    "COLI_df_2017[\"Rank\"] = np.arange(len(COLI_df_2017))\n",
    "COLI_df_2018[\"Rank\"] = np.arange(len(COLI_df_2018))\n",
    "COLI_df_2019[\"Rank\"] = np.arange(len(COLI_df_2019))\n"
   ]
  },
  {
   "cell_type": "code",
   "execution_count": 172,
   "metadata": {},
   "outputs": [],
   "source": [
    "# concatenate dataframes for all years\n",
    "result = pd.concat([COLI_df_2015,COLI_df_2016, COLI_df_2017, COLI_df_2018, COLI_df_2019], axis=0, join=\"inner\")\n",
    "sorted_df = result.sort_values(by='Year')"
   ]
  },
  {
   "cell_type": "code",
   "execution_count": 173,
   "metadata": {},
   "outputs": [],
   "source": [
    "both_years_df = sorted_df.loc[((sorted_df[\"Year\"] == 2015) &\n",
    "                               (sorted_df[\"Year\"] == 2016)),\n",
    "                               \"Rank\":\"Year\"]"
   ]
  },
  {
   "cell_type": "code",
   "execution_count": 174,
>>>>>>> STDs
   "metadata": {},
   "outputs": [
    {
     "data": {
      "text/html": [
       "<div>\n",
       "<style scoped>\n",
       "    .dataframe tbody tr th:only-of-type {\n",
       "        vertical-align: middle;\n",
       "    }\n",
       "\n",
       "    .dataframe tbody tr th {\n",
       "        vertical-align: top;\n",
       "    }\n",
       "\n",
       "    .dataframe thead th {\n",
       "        text-align: right;\n",
       "    }\n",
       "</style>\n",
       "<table border=\"1\" class=\"dataframe\">\n",
       "  <thead>\n",
       "    <tr style=\"text-align: right;\">\n",
       "      <th></th>\n",
       "      <th>Rank</th>\n",
       "      <th>Country</th>\n",
       "      <th>Cost of Living Index</th>\n",
       "      <th>Rent Index</th>\n",
       "      <th>Cost of Living Plus Rent Index</th>\n",
       "      <th>Groceries Index</th>\n",
       "      <th>Restaurant Price Index</th>\n",
       "      <th>Local Purchasing Power Index</th>\n",
       "      <th>Year</th>\n",
       "    </tr>\n",
       "  </thead>\n",
       "  <tbody>\n",
       "  </tbody>\n",
       "</table>\n",
       "</div>"
      ],
      "text/plain": [
       "Empty DataFrame\n",
       "Columns: [Rank, Country, Cost of Living Index, Rent Index, Cost of Living Plus Rent Index, Groceries Index, Restaurant Price Index, Local Purchasing Power Index, Year]\n",
       "Index: []"
      ]
     },
     "execution_count": 174,
     "metadata": {},
     "output_type": "execute_result"
    }
   ],
   "source": [
    "both_years_df"
   ]
  },
  {
   "cell_type": "code",
   "execution_count": null,
   "metadata": {},
   "outputs": [],
   "source": []
  },
  {
   "cell_type": "code",
   "execution_count": null,
   "metadata": {},
   "outputs": [],
   "source": []
  },
  {
   "cell_type": "code",
   "execution_count": null,
   "metadata": {},
   "outputs": [],
   "source": [
    "\n"
   ]
  },
  {
   "cell_type": "code",
   "execution_count": null,
   "metadata": {},
   "outputs": [],
   "source": []
  },
  {
   "cell_type": "raw",
   "metadata": {},
   "source": []
  },
  {
   "cell_type": "code",
   "execution_count": null,
   "metadata": {},
   "outputs": [],
   "source": []
  },
  {
   "cell_type": "code",
   "execution_count": null,
   "metadata": {},
   "outputs": [],
   "source": [
    "\n",
    " "
   ]
  },
  {
   "cell_type": "code",
<<<<<<< HEAD
<<<<<<< HEAD
   "execution_count": 5,
=======
   "execution_count": 16,
>>>>>>> STDs
=======
   "execution_count": 4,
>>>>>>> STDs
   "metadata": {},
   "outputs": [
    {
     "name": "stdout",
     "output_type": "stream",
     "text": [
      "https://www.numbeo.com/property-investment/rankings_by_country.jsp?title=2015\n",
      "121\n",
      "https://www.numbeo.com/property-investment/rankings_by_country.jsp?title=2016\n",
      "102\n",
      "https://www.numbeo.com/property-investment/rankings_by_country.jsp?title=2017\n",
      "99\n",
      "https://www.numbeo.com/property-investment/rankings_by_country.jsp?title=2018\n",
      "89\n",
      "https://www.numbeo.com/property-investment/rankings_by_country.jsp?title=2019\n",
      "93\n"
     ]
    }
   ],
   "source": [
    "# Scrape data and check for number of records per year\n",
    "all_property_data = []\n",
    "\n",
    "for year in years:\n",
    "    url = 'https://www.numbeo.com/property-investment/rankings_by_country.jsp?title=' + str(year)\n",
    "    print(url)\n",
    "    property_data = pd.read_html(url)\n",
    "    print(len(property_data[2]))\n",
    "    all_property_data.append(property_data[2])\n"
   ]
  },
  {
   "cell_type": "code",
   "execution_count": 5,
   "metadata": {},
   "outputs": [
    {
     "data": {
      "text/html": [
       "<div>\n",
       "<style scoped>\n",
       "    .dataframe tbody tr th:only-of-type {\n",
       "        vertical-align: middle;\n",
       "    }\n",
       "\n",
       "    .dataframe tbody tr th {\n",
       "        vertical-align: top;\n",
       "    }\n",
       "\n",
       "    .dataframe thead th {\n",
       "        text-align: right;\n",
       "    }\n",
       "</style>\n",
       "<table border=\"1\" class=\"dataframe\">\n",
       "  <thead>\n",
       "    <tr style=\"text-align: right;\">\n",
       "      <th></th>\n",
       "      <th>Rank</th>\n",
       "      <th>Country</th>\n",
       "      <th>Price To Income Ratio</th>\n",
       "      <th>Gross Rental Yield City Centre</th>\n",
       "      <th>Gross Rental Yield Outside of Centre</th>\n",
       "      <th>Price To Rent Ratio City Centre</th>\n",
       "      <th>Price To Rent Ratio Outside Of City Centre</th>\n",
       "      <th>Mortgage As A Percentage Of Income</th>\n",
       "      <th>Affordability Index</th>\n",
       "      <th>Year</th>\n",
       "    </tr>\n",
       "  </thead>\n",
       "  <tbody>\n",
       "    <tr>\n",
       "      <th>0</th>\n",
       "      <td>NaN</td>\n",
       "      <td>Uganda</td>\n",
       "      <td>31.13</td>\n",
       "      <td>1.86</td>\n",
       "      <td>10.02</td>\n",
       "      <td>53.70</td>\n",
       "      <td>9.98</td>\n",
       "      <td>649.36</td>\n",
       "      <td>0.15</td>\n",
       "      <td>2015</td>\n",
       "    </tr>\n",
       "    <tr>\n",
       "      <th>1</th>\n",
       "      <td>NaN</td>\n",
       "      <td>Syria</td>\n",
       "      <td>30.49</td>\n",
       "      <td>3.95</td>\n",
       "      <td>3.15</td>\n",
       "      <td>25.33</td>\n",
       "      <td>31.75</td>\n",
       "      <td>283.67</td>\n",
       "      <td>0.35</td>\n",
       "      <td>2015</td>\n",
       "    </tr>\n",
       "    <tr>\n",
       "      <th>2</th>\n",
       "      <td>NaN</td>\n",
       "      <td>Hong Kong</td>\n",
       "      <td>30.09</td>\n",
       "      <td>2.67</td>\n",
       "      <td>2.77</td>\n",
       "      <td>37.49</td>\n",
       "      <td>36.08</td>\n",
       "      <td>192.99</td>\n",
       "      <td>0.52</td>\n",
       "      <td>2015</td>\n",
       "    </tr>\n",
       "    <tr>\n",
       "      <th>3</th>\n",
       "      <td>NaN</td>\n",
       "      <td>Myanmar</td>\n",
       "      <td>26.84</td>\n",
       "      <td>8.47</td>\n",
       "      <td>2.95</td>\n",
       "      <td>11.81</td>\n",
       "      <td>33.92</td>\n",
       "      <td>317.96</td>\n",
       "      <td>0.31</td>\n",
       "      <td>2015</td>\n",
       "    </tr>\n",
       "    <tr>\n",
       "      <th>4</th>\n",
       "      <td>NaN</td>\n",
       "      <td>Ghana</td>\n",
       "      <td>26.62</td>\n",
       "      <td>10.77</td>\n",
       "      <td>13.45</td>\n",
       "      <td>9.28</td>\n",
       "      <td>7.44</td>\n",
       "      <td>670.38</td>\n",
       "      <td>0.15</td>\n",
       "      <td>2015</td>\n",
       "    </tr>\n",
       "    <tr>\n",
       "      <th>...</th>\n",
       "      <td>...</td>\n",
       "      <td>...</td>\n",
       "      <td>...</td>\n",
       "      <td>...</td>\n",
       "      <td>...</td>\n",
       "      <td>...</td>\n",
       "      <td>...</td>\n",
       "      <td>...</td>\n",
       "      <td>...</td>\n",
       "      <td>...</td>\n",
       "    </tr>\n",
       "    <tr>\n",
       "      <th>88</th>\n",
       "      <td>NaN</td>\n",
       "      <td>Palestine</td>\n",
       "      <td>5.42</td>\n",
       "      <td>5.88</td>\n",
       "      <td>6.56</td>\n",
       "      <td>17.00</td>\n",
       "      <td>15.24</td>\n",
       "      <td>53.58</td>\n",
       "      <td>1.87</td>\n",
       "      <td>2019</td>\n",
       "    </tr>\n",
       "    <tr>\n",
       "      <th>89</th>\n",
       "      <td>NaN</td>\n",
       "      <td>United Arab Emirates</td>\n",
       "      <td>4.40</td>\n",
       "      <td>10.24</td>\n",
       "      <td>10.68</td>\n",
       "      <td>9.77</td>\n",
       "      <td>9.36</td>\n",
       "      <td>31.52</td>\n",
       "      <td>3.17</td>\n",
       "      <td>2019</td>\n",
       "    </tr>\n",
       "    <tr>\n",
       "      <th>90</th>\n",
       "      <td>NaN</td>\n",
       "      <td>South Africa</td>\n",
       "      <td>4.11</td>\n",
       "      <td>9.56</td>\n",
       "      <td>11.16</td>\n",
       "      <td>10.46</td>\n",
       "      <td>8.96</td>\n",
       "      <td>49.15</td>\n",
       "      <td>2.03</td>\n",
       "      <td>2019</td>\n",
       "    </tr>\n",
       "    <tr>\n",
       "      <th>91</th>\n",
       "      <td>NaN</td>\n",
       "      <td>United States</td>\n",
       "      <td>3.58</td>\n",
       "      <td>10.40</td>\n",
       "      <td>11.24</td>\n",
       "      <td>9.61</td>\n",
       "      <td>8.90</td>\n",
       "      <td>26.81</td>\n",
       "      <td>3.73</td>\n",
       "      <td>2019</td>\n",
       "    </tr>\n",
       "    <tr>\n",
       "      <th>92</th>\n",
       "      <td>NaN</td>\n",
       "      <td>Saudi Arabia</td>\n",
       "      <td>2.89</td>\n",
       "      <td>6.80</td>\n",
       "      <td>7.71</td>\n",
       "      <td>14.70</td>\n",
       "      <td>12.97</td>\n",
       "      <td>20.64</td>\n",
       "      <td>4.85</td>\n",
       "      <td>2019</td>\n",
       "    </tr>\n",
       "  </tbody>\n",
       "</table>\n",
       "<p>504 rows × 10 columns</p>\n",
       "</div>"
      ],
      "text/plain": [
       "    Rank               Country  Price To Income Ratio  \\\n",
       "0    NaN                Uganda                  31.13   \n",
       "1    NaN                 Syria                  30.49   \n",
       "2    NaN             Hong Kong                  30.09   \n",
       "3    NaN               Myanmar                  26.84   \n",
       "4    NaN                 Ghana                  26.62   \n",
       "..   ...                   ...                    ...   \n",
       "88   NaN             Palestine                   5.42   \n",
       "89   NaN  United Arab Emirates                   4.40   \n",
       "90   NaN          South Africa                   4.11   \n",
       "91   NaN         United States                   3.58   \n",
       "92   NaN          Saudi Arabia                   2.89   \n",
       "\n",
       "    Gross Rental Yield City Centre  Gross Rental Yield Outside of Centre  \\\n",
       "0                             1.86                                 10.02   \n",
       "1                             3.95                                  3.15   \n",
       "2                             2.67                                  2.77   \n",
       "3                             8.47                                  2.95   \n",
       "4                            10.77                                 13.45   \n",
       "..                             ...                                   ...   \n",
       "88                            5.88                                  6.56   \n",
       "89                           10.24                                 10.68   \n",
       "90                            9.56                                 11.16   \n",
       "91                           10.40                                 11.24   \n",
       "92                            6.80                                  7.71   \n",
       "\n",
       "    Price To Rent Ratio City Centre  \\\n",
       "0                             53.70   \n",
       "1                             25.33   \n",
       "2                             37.49   \n",
       "3                             11.81   \n",
       "4                              9.28   \n",
       "..                              ...   \n",
       "88                            17.00   \n",
       "89                             9.77   \n",
       "90                            10.46   \n",
       "91                             9.61   \n",
       "92                            14.70   \n",
       "\n",
       "    Price To Rent Ratio Outside Of City Centre  \\\n",
       "0                                         9.98   \n",
       "1                                        31.75   \n",
       "2                                        36.08   \n",
       "3                                        33.92   \n",
       "4                                         7.44   \n",
       "..                                         ...   \n",
       "88                                       15.24   \n",
       "89                                        9.36   \n",
       "90                                        8.96   \n",
       "91                                        8.90   \n",
       "92                                       12.97   \n",
       "\n",
       "    Mortgage As A Percentage Of Income  Affordability Index  Year  \n",
       "0                               649.36                 0.15  2015  \n",
       "1                               283.67                 0.35  2015  \n",
       "2                               192.99                 0.52  2015  \n",
       "3                               317.96                 0.31  2015  \n",
       "4                               670.38                 0.15  2015  \n",
       "..                                 ...                  ...   ...  \n",
       "88                               53.58                 1.87  2019  \n",
       "89                               31.52                 3.17  2019  \n",
       "90                               49.15                 2.03  2019  \n",
       "91                               26.81                 3.73  2019  \n",
       "92                               20.64                 4.85  2019  \n",
       "\n",
       "[504 rows x 10 columns]"
      ]
     },
     "execution_count": 5,
     "metadata": {},
     "output_type": "execute_result"
    }
   ],
   "source": [
    "# Create dataframes, add a year column and concatenate\n",
    "property_df_2015 = pd.DataFrame(all_property_data[0])\n",
    "property_df_2015[\"Year\"] = [int(2015)]*len(all_property_data[0]) \n",
    "\n",
    "\n",
    "property_df_2016 = pd.DataFrame(all_property_data[1])\n",
    "property_df_2016[\"Year\"] = [int(2016)]*len(all_property_data[1]) \n",
    "\n",
    "\n",
    "property_df_2017 = pd.DataFrame(all_property_data[2])\n",
    "property_df_2017[\"Year\"] = [int(2017)]*len(all_property_data[2]) \n",
    "\n",
    "\n",
    "property_df_2018 = pd.DataFrame(all_property_data[3])\n",
    "property_df_2018[\"Year\"] = [int(2018)]*len(all_property_data[3]) \n",
    "\n",
    "\n",
    "property_df_2019 = pd.DataFrame(all_property_data[4])\n",
    "property_df_2019[\"Year\"] = [int(2019)]*len(all_property_data[4]) \n",
    "\n",
    "\n",
    "property_df = pd.concat([property_df_2015, property_df_2016, property_df_2017, property_df_2018, property_df_2019])\n",
    "\n",
    "property_df"
   ]
  },
  {
   "cell_type": "code",
   "execution_count": null,
   "metadata": {},
   "outputs": [],
   "source": [
    "COLI_df.rename(columns={\"Cost of Living Index\":\"CostOfLiving_index\",\n",
    "                        \"Rent Index\":\"Rent_index\",\n",
    "                        \"Groceries Index\":\"Groceries_index\",\n",
    "                        \"Restaurant Price Index\":\"RestaurantPrice_index\",\n",
    "                        \"Local Purchasing Power Index\":\"LocalPurchPower_index\"},\n",
    "               inplace=True)\n",
    "\n",
    "COLI_df = COLI_df[[\"Country\", \"Year\", \"Rank\", \"CostOfLiving_index\", \"Rent_index\", \"Groceries_index\",\n",
    "                   \"RestaurantPrice_index\",\"LocalPurchPower_index\" ]] \n",
    "\n",
    "COLI_df.set_index(\"Year\", inplace = True)\n",
    "COLI_df.shape\n",
    "    "
   ]
  },
  {
   "cell_type": "code",
   "execution_count": 6,
   "metadata": {},
   "outputs": [],
   "source": [
    "#COLI_df.to_csv(\"COLI_raw.csv\")\n",
    "    #property_df.to_csv(\"property_raw.csv\")"
   ]
  }
 ],
 "metadata": {
  "kernelspec": {
   "display_name": "Python [conda env:PythonData]",
   "language": "python",
   "name": "conda-env-PythonData-py"
  },
  "language_info": {
   "codemirror_mode": {
    "name": "ipython",
    "version": 3
   },
   "file_extension": ".py",
   "mimetype": "text/x-python",
   "name": "python",
   "nbconvert_exporter": "python",
   "pygments_lexer": "ipython3",
   "version": "3.6.10"
  }
 },
 "nbformat": 4,
 "nbformat_minor": 4
}
