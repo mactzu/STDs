{
 "cells": [
  {
   "cell_type": "markdown",
   "metadata": {},
   "source": []
  },
  {
   "cell_type": "code",
   "execution_count": null,
   "metadata": {},
   "outputs": [],
   "source": [
    "# import modules\n",
    "import pandas as pd\n",
    "import numpy as np\n"
   ]
  },
  {
   "cell_type": "code",
   "execution_count": null,
   "metadata": {},
   "outputs": [],
   "source": [
    "# scrape data and check for number of records per year\n",
    "years = (2015, 2016, 2017, 2018, 2019)\n",
    "\n",
    "all_COLI_data = []\n",
    "\n",
    "for year in years:\n",
    "    url = 'https://www.numbeo.com/cost-of-living/rankings_by_country.jsp?title=' + str(year)\n",
    "    print(url)\n",
    "    COLI_data = pd.read_html(url)\n",
    "    print(len(COLI_data[2]))\n",
    "    all_COLI_data.append(COLI_data[2])\n"
   ]
  },
  {
   "cell_type": "code",
   "execution_count": null,
   "metadata": {},
   "outputs": [],
   "source": [
    "# create a dataframe for each year\n",
    "COLI_df_2015 = pd.DataFrame(all_COLI_data[0])\n",
    "COLI_df_2016 = pd.DataFrame(all_COLI_data[1])\n",
    "COLI_df_2017 = pd.DataFrame(all_COLI_data[2])\n",
    "COLI_df_2018 = pd.DataFrame(all_COLI_data[3])\n",
    "COLI_df_2019 = pd.DataFrame(all_COLI_data[4])\n",
    "\n",
    "# add a column for year and assigning year value\n",
    "COLI_df_2015[\"Year\"] = [int(2015)]*len(all_COLI_data[0]) \n",
    "COLI_df_2016[\"Year\"] = [int(2016)]*len(all_COLI_data[1]) \n",
    "COLI_df_2017[\"Year\"] = [int(2017)]*len(all_COLI_data[2]) \n",
    "COLI_df_2018[\"Year\"] = [int(2018)]*len(all_COLI_data[3]) \n",
    "COLI_df_2019[\"Year\"] = [int(2019)]*len(all_COLI_data[4]) \n",
    "\n",
    "# add annual ranking based on row number + 1\n",
    "COLI_df_2015[\"Ranking\"] = np.arange(start = 1, stop = len(COLI_df_2015)+1, step = 1)\n",
    "COLI_df_2016[\"Ranking\"] = np.arange(start = 1, stop = len(COLI_df_2016)+1, step = 1)\n",
    "COLI_df_2017[\"Ranking\"] = np.arange(start = 1, stop = len(COLI_df_2017)+1, step = 1)\n",
    "COLI_df_2018[\"Ranking\"] = np.arange(start = 1, stop = len(COLI_df_2018)+1, step = 1)\n",
    "COLI_df_2019[\"Ranking\"] = np.arange(start = 1, stop = len(COLI_df_2019)+1, step = 1)\n"
   ]
  },
  {
   "cell_type": "code",
   "execution_count": null,
   "metadata": {},
   "outputs": [],
   "source": [
    "# concatenate dataframes for all years to find common countries across all years\n",
    "result_df = pd.concat([COLI_df_2015,COLI_df_2016, COLI_df_2017, COLI_df_2018, COLI_df_2019],\n",
    "                      axis=1, \n",
    "                      join=\"inner\"\n",
    "                     )\n",
    "result_df"
   ]
  },
  {
   "cell_type": "code",
   "execution_count": null,
   "metadata": {},
   "outputs": [],
   "source": [
    "# slice dataframes to create dataframes for each year\n",
    "COLI_df_2015 = result_df.iloc[:,1:10]\n",
    "COLI_df_2016 = result_df.iloc[:,11:20]\n",
    "COLI_df_2017 = result_df.iloc[:,21:30]\n",
    "COLI_df_2018 = result_df.iloc[:,31:40]\n",
    "COLI_df_2019 = result_df.iloc[:,41:50]\n"
   ]
  },
  {
   "cell_type": "code",
   "execution_count": null,
   "metadata": {},
   "outputs": [],
   "source": [
    "# concatenate dataframes for all years to find common countries across all years\n",
    "COLI_df = pd.concat([COLI_df_2015,COLI_df_2016, COLI_df_2017, COLI_df_2018, COLI_df_2019\n",
    "                    ], \n",
    "                    axis=0, \n",
    "                    join=\"inner\"\n",
    "                   )"
   ]
  },
  {
   "cell_type": "code",
   "execution_count": null,
   "metadata": {},
   "outputs": [],
   "source": [
    "COLI_df"
   ]
  },
  {
   "cell_type": "code",
   "execution_count": null,
   "metadata": {},
   "outputs": [],
   "source": [
    "# rename columns to remove spacing\n",
    "COLI_df.rename(columns={\"Cost of Living Index\":\"CostOfLiving_index\",\n",
    "                        \"Rent Index\":\"Rent_index\",\n",
    "                        \"Groceries Index\":\"Groceries_index\",\n",
    "                        \"Restaurant Price Index\":\"RestaurantPrice_index\",\n",
    "                        \"Local Purchasing Power Index\":\"LocalPurchPower_index\"\n",
    "                       }, \n",
    "               inplace=True\n",
    "              )"
   ]
  },
  {
   "cell_type": "code",
   "execution_count": null,
   "metadata": {},
   "outputs": [],
   "source": [
    "# slice dataframe (keeping relevant columns) and rearrange column order\n",
    "COLI_df = COLI_df[[\"Country\", \"Year\", \"Ranking\", \"CostOfLiving_index\", \"Rent_index\", \"Groceries_index\", \n",
    "                   \"RestaurantPrice_index\",\"LocalPurchPower_index\"\n",
    "                  ]\n",
    "                 ] "
   ]
  },
  {
   "cell_type": "code",
   "execution_count": null,
   "metadata": {},
   "outputs": [],
   "source": [
    "# display dataframe\n",
    "COLI_df\n"
   ]
  },
  {
   "cell_type": "code",
   "execution_count": null,
   "metadata": {},
   "outputs": [],
   "source": []
  },
  {
   "cell_type": "code",
   "execution_count": null,
   "metadata": {},
   "outputs": [],
   "source": []
  },
  {
   "cell_type": "code",
   "execution_count": null,
   "metadata": {},
   "outputs": [],
   "source": [
    "# Scrape data and check for number of records per year\n",
    "all_property_data = []\n",
    "\n",
    "for year in years:\n",
    "    url = 'https://www.numbeo.com/property-investment/rankings_by_country.jsp?title=' + str(year)\n",
    "    print(url)\n",
    "    property_data = pd.read_html(url)\n",
    "    print(len(property_data[2]))\n",
    "    all_property_data.append(property_data[2])\n"
   ]
  },
  {
   "cell_type": "code",
   "execution_count": null,
   "metadata": {},
   "outputs": [],
   "source": []
  },
  {
   "cell_type": "code",
   "execution_count": null,
   "metadata": {},
   "outputs": [],
   "source": [
    "# create a dataframe for each year\n",
    "property_df_2015 = pd.DataFrame(all_property_data[0])\n",
    "property_df_2016 = pd.DataFrame(all_property_data[1])\n",
    "property_df_2017 = pd.DataFrame(all_property_data[2])\n",
    "property_df_2018 = pd.DataFrame(all_property_data[3])\n",
    "property_df_2019 = pd.DataFrame(all_property_data[4])\n",
    "\n",
    "# add a column for year and assigning year value\n",
    "property_df_2015[\"Year\"] = [int(2015)]*len(all_property_data[0]) \n",
    "property_df_2016[\"Year\"] = [int(2016)]*len(all_property_data[1]) \n",
    "property_df_2017[\"Year\"] = [int(2017)]*len(all_property_data[2]) \n",
    "property_df_2018[\"Year\"] = [int(2018)]*len(all_property_data[3]) \n",
    "property_df_2019[\"Year\"] = [int(2019)]*len(all_property_data[4]) \n"
   ]
  },
  {
   "cell_type": "code",
   "execution_count": null,
   "metadata": {},
   "outputs": [],
   "source": [
    "# concatenate dataframes for all years to find common countries across all years\n",
    "property_result_df = pd.concat([property_df_2015,property_df_2016, property_df_2017, \n",
    "                                property_df_2018, property_df_2019\n",
    "                               ], \n",
    "                               axis=1, \n",
    "                               join=\"inner\"\n",
    "                              )\n",
    "property_result_df"
   ]
  },
  {
   "cell_type": "code",
   "execution_count": null,
   "metadata": {},
   "outputs": [],
   "source": [
    "# slice dataframes to create dataframes for each year\n",
    "property_df_2015 = property_result_df.iloc[:,1:10]\n",
    "property_df_2016 = property_result_df.iloc[:,11:20]\n",
    "property_df_2017 = property_result_df.iloc[:,21:30]\n",
    "property_df_2018 = property_result_df.iloc[:,31:40]\n",
    "property_df_2019 = property_result_df.iloc[:,41:50]\n"
   ]
  },
  {
   "cell_type": "code",
   "execution_count": null,
   "metadata": {},
   "outputs": [],
   "source": [
    "# concatenate dataframes for all years to find common countries across all years\n",
    "property_df = pd.concat([property_df_2015, property_df_2016, property_df_2017,\n",
    "                         property_df_2018, property_df_2019\n",
    "                        ], \n",
    "                        axis=0, \n",
    "                        join=\"inner\"\n",
    "                       )"
   ]
  },
  {
   "cell_type": "code",
   "execution_count": null,
   "metadata": {},
   "outputs": [],
   "source": [
    "# slice dataframe (keeping relevant columns) and rearrange column order\n",
    "property_df = property_df[[\"Country\", \"Year\", \"Price To Income Ratio\", \"Mortgage As A Percentage Of Income\", \n",
    "                           \"Affordability Index\"\n",
    "                          ]\n",
    "                         ]\n",
    "property_df"
   ]
  },
  {
   "cell_type": "code",
   "execution_count": null,
   "metadata": {},
   "outputs": [],
   "source": [
    " # rename columns to remove spacing\n",
    "property_df.rename(columns={\"Price To Income Ratio\":\"price_income_ratio\",\n",
    "                            \"Mortgage As A Percentage Of Income\":\"mortage_income_ratio\",\n",
    "                            \"Affordability Index\":\"affordability_index\"\n",
    "                           }, \n",
    "                   inplace=True\n",
    "                  )"
   ]
  },
  {
   "cell_type": "code",
   "execution_count": null,
   "metadata": {},
   "outputs": [],
   "source": [
    "property_df"
   ]
  },
  {
   "cell_type": "code",
   "execution_count": null,
   "metadata": {},
   "outputs": [],
   "source": []
  },
  {
   "cell_type": "code",
   "execution_count": null,
   "metadata": {},
   "outputs": [],
   "source": []
  },
  {
   "cell_type": "code",
   "execution_count": null,
   "metadata": {},
   "outputs": [],
   "source": []
  },
  {
   "cell_type": "code",
   "execution_count": null,
   "metadata": {},
   "outputs": [],
   "source": [
    "#COLI_df.to_csv(\"COLI_raw.csv\")\n",
    "#property_df.to_csv(\"property_raw.csv\")"
   ]
  }
 ],
 "metadata": {
  "kernelspec": {
   "display_name": "Python 3.7.6 64-bit ('PythonData': conda)",
   "language": "python",
   "name": "python37664bitpythondataconda732d323569964bd9be2661eee657a7aa"
  },
  "language_info": {
   "codemirror_mode": {
    "name": "ipython",
    "version": 3
   },
   "file_extension": ".py",
   "mimetype": "text/x-python",
   "name": "python",
   "nbconvert_exporter": "python",
   "pygments_lexer": "ipython3",
   "version": "3.7.6"
  }
 },
 "nbformat": 4,
 "nbformat_minor": 4
}
