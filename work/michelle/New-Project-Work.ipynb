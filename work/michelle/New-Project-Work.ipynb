{
 "cells": [
  {
   "cell_type": "markdown",
   "metadata": {},
   "source": [
    "### Cost of Living Index Data Extraction"
   ]
  },
  {
   "cell_type": "code",
   "execution_count": null,
   "metadata": {},
   "outputs": [],
   "source": [
    "# import modules\n",
    "import pandas as pd\n",
    "import numpy as np\n",
    "\n",
    "# Import SQL Alchemy\n",
    "from sqlalchemy import create_engine\n",
    "\n",
    "# Import URI\n",
    "#from config import database"
   ]
  },
  {
   "cell_type": "code",
   "execution_count": null,
   "metadata": {},
   "outputs": [],
   "source": [
    "# parse in html tables and check for number of records per table\n",
    "years = (2015, 2016, 2017, 2018, 2019)\n",
    "\n",
    "all_COLI_data = []\n",
    "\n",
    "for year in years:\n",
    "    url = 'https://www.numbeo.com/cost-of-living/rankings_by_country.jsp?title=' + str(year)\n",
    "    print(url)\n",
    "    COLI_data = pd.read_html(url)\n",
    "    print(len(COLI_data[2]))\n",
    "    all_COLI_data.append(COLI_data[2])\n"
   ]
  },
  {
   "cell_type": "markdown",
   "metadata": {},
   "source": [
    "### Cost of Living Index Data Transformation"
   ]
  },
  {
   "cell_type": "code",
   "execution_count": null,
   "metadata": {},
   "outputs": [],
   "source": [
    "# create a dataframe for each year\n",
    "COLI_df_2015 = pd.DataFrame(all_COLI_data[0])\n",
    "COLI_df_2016 = pd.DataFrame(all_COLI_data[1])\n",
    "COLI_df_2017 = pd.DataFrame(all_COLI_data[2])\n",
    "COLI_df_2018 = pd.DataFrame(all_COLI_data[3])\n",
    "COLI_df_2019 = pd.DataFrame(all_COLI_data[4])\n",
    "\n",
    "# add a column for year and assigning year value\n",
    "COLI_df_2015[\"Year\"] = [int(2015)]*len(all_COLI_data[0]) \n",
    "COLI_df_2016[\"Year\"] = [int(2016)]*len(all_COLI_data[1]) \n",
    "COLI_df_2017[\"Year\"] = [int(2017)]*len(all_COLI_data[2]) \n",
    "COLI_df_2018[\"Year\"] = [int(2018)]*len(all_COLI_data[3]) \n",
    "COLI_df_2019[\"Year\"] = [int(2019)]*len(all_COLI_data[4]) \n",
    "\n",
    "# add annual ranking based on row number + 1\n",
    "COLI_df_2015[\"Ranking\"] = np.arange(start = 1, stop = len(COLI_df_2015)+1, step = 1)\n",
    "COLI_df_2016[\"Ranking\"] = np.arange(start = 1, stop = len(COLI_df_2016)+1, step = 1)\n",
    "COLI_df_2017[\"Ranking\"] = np.arange(start = 1, stop = len(COLI_df_2017)+1, step = 1)\n",
    "COLI_df_2018[\"Ranking\"] = np.arange(start = 1, stop = len(COLI_df_2018)+1, step = 1)\n",
    "COLI_df_2019[\"Ranking\"] = np.arange(start = 1, stop = len(COLI_df_2019)+1, step = 1)\n",
    "\n",
    "# drop rank column\n",
    "COLI_df_2015 = COLI_df_2015.drop([\"Rank\"], axis=1)\n",
    "COLI_df_2016 = COLI_df_2016.drop([\"Rank\"], axis=1)\n",
    "COLI_df_2017 = COLI_df_2017.drop([\"Rank\"], axis=1)\n",
    "COLI_df_2018 = COLI_df_2018.drop([\"Rank\"], axis=1)\n",
    "COLI_df_2019 = COLI_df_2019.drop([\"Rank\"], axis=1)"
   ]
  },
  {
   "cell_type": "code",
   "execution_count": null,
   "metadata": {},
   "outputs": [],
   "source": [
    "# concatenate dataframes for all years into a single dataframe\n",
    "COLI_result_df = pd.concat([COLI_df_2015, COLI_df_2016, COLI_df_2017, \n",
    "                                COLI_df_2018, COLI_df_2019\n",
    "                               ], \n",
    "                               axis=0, \n",
    "                               join=\"inner\"\n",
    "                              )\n",
    "COLI_result_df"
   ]
  },
  {
   "cell_type": "code",
   "execution_count": null,
   "metadata": {},
   "outputs": [],
   "source": [
    "# rename columns to remove spacing (required for SQL database)\n",
    "COLI_result_df.rename(columns={\"Cost of Living Index\":\"CostOfLiving_index\",\n",
    "                        \"Rent Index\":\"Rent_index\",\n",
    "                        \"Groceries Index\":\"Groceries_index\",\n",
    "                        \"Restaurant Price Index\":\"RestaurantPrice_index\",\n",
    "                        \"Local Purchasing Power Index\":\"LocalPurchPower_index\"\n",
    "                       }, \n",
    "               inplace=True\n",
    "              )\n"
   ]
  },
  {
   "cell_type": "code",
   "execution_count": null,
   "metadata": {},
   "outputs": [],
   "source": [
    "# drop redundant columns\n",
    "COLI_result_df.drop([\"Cost of Living Plus Rent Index\"], axis=1)"
   ]
  },
  {
   "cell_type": "code",
   "execution_count": null,
   "metadata": {},
   "outputs": [],
   "source": [
    "# resize dataframe (keeping relevant columns) and rearrange column order\n",
    "COLI_result_df = pd.DataFrame(COLI_result_df[[\"Country\", \"Year\", \"Ranking\", \"CostOfLiving_index\", \"Rent_index\", \"Groceries_index\", \n",
    "                   \"RestaurantPrice_index\",\"LocalPurchPower_index\"\n",
    "                  ]\n",
    "                 ]\n",
    "                             ) \n",
    "COLI_result_df\n"
   ]
  },
  {
   "cell_type": "code",
   "execution_count": null,
   "metadata": {},
   "outputs": [],
   "source": [
    "# count the number of years data for each country\n",
    "country_df = pd.DataFrame(COLI_result_df.groupby([\"Country\"])[\"Year\"].count())\n",
    "\n",
    "# iterate over dataframe to drop countries where there are not 5 years of data\n",
    "for index, row in country_df.iterrows():\n",
    "    if row[\"Year\"] !=5:\n",
    "        country_df.drop(index, inplace = True)\n",
    "        \n",
    "country_df"
   ]
  },
  {
   "cell_type": "code",
   "execution_count": null,
   "metadata": {},
   "outputs": [],
   "source": [
    "# validate that all countries without 5 years of data have been dropped\n",
    "check = country_df.loc[country_df[\"Year\"] != 5]\n",
    "check"
   ]
  },
  {
   "cell_type": "code",
   "execution_count": null,
   "metadata": {},
   "outputs": [],
   "source": [
    "# filter the database for countries with only 5 years of data\n",
    "countries = list(country_df.index.values) \n",
    "countries\n"
   ]
  },
  {
   "cell_type": "code",
   "execution_count": null,
   "metadata": {},
   "outputs": [],
   "source": [
    "# filter datafrome for countries with 5 years of data\n",
    "COLI_df = pd.DataFrame(COLI_result_df[COLI_result_df[\"Country\"].isin(countries)])\n",
    "COLI_df"
   ]
  },
  {
   "cell_type": "code",
   "execution_count": null,
   "metadata": {},
   "outputs": [],
   "source": [
    "# review simple stats as a reasonableness check (the \"sniff\" test)\n",
    "COLI_df.describe()"
   ]
  },
  {
   "cell_type": "code",
   "execution_count": null,
   "metadata": {},
   "outputs": [],
   "source": [
    "# confirm same number of records per year for all years\n",
    "check_df = pd.DataFrame(COLI_df.groupby([\"Year\"]).count())\n",
    "check_df"
   ]
  },
  {
   "cell_type": "code",
   "execution_count": null,
   "metadata": {},
   "outputs": [],
   "source": [
    "# parse in html tables and check for number of records per table\n",
    "all_property_data = []\n",
    "\n",
    "for year in years:\n",
    "    url = 'https://www.numbeo.com/property-investment/rankings_by_country.jsp?title=' + str(year)\n",
    "    print(url)\n",
    "    property_data = pd.read_html(url)\n",
    "    print(len(property_data[2]))\n",
    "    all_property_data.append(property_data[2])\n"
   ]
  },
  {
   "cell_type": "code",
   "execution_count": null,
   "metadata": {},
   "outputs": [],
   "source": [
    "# create a dataframe for each year\n",
    "property_df_2015 = pd.DataFrame(all_property_data[0])\n",
    "property_df_2016 = pd.DataFrame(all_property_data[1])\n",
    "property_df_2017 = pd.DataFrame(all_property_data[2])\n",
    "property_df_2018 = pd.DataFrame(all_property_data[3])\n",
    "property_df_2019 = pd.DataFrame(all_property_data[4])\n",
    "\n",
    "# add a column for year and assigning year value\n",
    "property_df_2015[\"Year\"] = [int(2015)]*len(all_property_data[0]) \n",
    "property_df_2016[\"Year\"] = [int(2016)]*len(all_property_data[1]) \n",
    "property_df_2017[\"Year\"] = [int(2017)]*len(all_property_data[2]) \n",
    "property_df_2018[\"Year\"] = [int(2018)]*len(all_property_data[3]) \n",
    "property_df_2019[\"Year\"] = [int(2019)]*len(all_property_data[4]) \n",
    "\n",
    "# drop rank column\n",
    "property_df_2015 = property_df_2015.drop([\"Rank\"], axis=1)\n",
    "property_df_2016 = property_df_2016.drop([\"Rank\"], axis=1)\n",
    "property_df_2017 = property_df_2017.drop([\"Rank\"], axis=1)\n",
    "property_df_2018 = property_df_2018.drop([\"Rank\"], axis=1)\n",
    "property_df_2019 = property_df_2019.drop([\"Rank\"], axis=1)\n"
   ]
  },
  {
   "cell_type": "code",
   "execution_count": null,
   "metadata": {},
   "outputs": [],
   "source": [
    "# concatenate dataframes for all years to find common countries across all years\n",
    "property_result_df = pd.concat([property_df_2015,property_df_2016, property_df_2017, \n",
    "                                property_df_2018, property_df_2019\n",
    "                               ], \n",
    "                               axis=0, \n",
    "                               join=\"inner\"\n",
    "                              )\n",
    "property_result_df"
   ]
  },
  {
   "cell_type": "code",
   "execution_count": null,
   "metadata": {},
   "outputs": [],
   "source": [
    "# resize dataframe (keeping relevant columns) and rearrange column order\n",
    "property_result_df = pd.DataFrame(property_result_df[[\"Country\", \"Year\", \"Price To Income Ratio\", \"Mortgage As A Percentage Of Income\", \n",
    "                           \"Affordability Index\"\n",
    "                          ]\n",
    "                         ]\n",
    "                          )\n",
    "property_result_df"
   ]
  },
  {
   "cell_type": "code",
   "execution_count": null,
   "metadata": {},
   "outputs": [],
   "source": [
    "# rename columns to remove spacing (required for SQL database)\n",
    "property_result_df.rename(columns={\"Price To Income Ratio\":\"price_income_ratio\",\n",
    "                            \"Mortgage As A Percentage Of Income\":\"mortage_income_ratio\",\n",
    "                            \"Affordability Index\":\"affordability_index\"\n",
    "                           }, \n",
    "                   inplace=True\n",
    "                  )\n",
    "property_result_df"
   ]
  },
  {
   "cell_type": "code",
   "execution_count": null,
   "metadata": {},
   "outputs": [],
   "source": [
    "# count the number of years data for each country\n",
    "pcountry_df = pd.DataFrame(property_result_df.groupby([\"Country\"])[\"Year\"].count())\n",
    "\n",
    "# iterate over dataframe to drop countries where there are not 5 years of data\n",
    "for index, row in pcountry_df.iterrows():\n",
    "    if row[\"Year\"] !=5:\n",
    "        pcountry_df.drop(index, inplace = True)\n",
    "        \n",
    "pcountry_df"
   ]
  },
  {
   "cell_type": "code",
   "execution_count": null,
   "metadata": {},
   "outputs": [],
   "source": [
    "# validate that all countries without 5 years of data have been dropped\n",
    "check = pcountry_df.loc[pcountry_df[\"Year\"] != 5]\n",
    "check"
   ]
  },
  {
   "cell_type": "code",
   "execution_count": null,
   "metadata": {},
   "outputs": [],
   "source": [
    "# filter the database for countries with only 5 years of data\n",
    "final_countries = list(pcountry_df.index.values) \n",
    "final_countries"
   ]
  },
  {
   "cell_type": "code",
   "execution_count": null,
   "metadata": {},
   "outputs": [],
   "source": [
    "# filter property datafrome for countries with 5 years of data\n",
    "property_df = pd.DataFrame(property_result_df[property_result_df[\"Country\"].isin(final_countries)])\n",
    "property_df"
   ]
  },
  {
   "cell_type": "code",
   "execution_count": null,
   "metadata": {},
   "outputs": [],
   "source": [
    "# filter COLI datafrome for countries with 5 years of data in both dataframes\n",
    "COLI_df = pd.DataFrame(COLI_result_df[COLI_result_df[\"Country\"].isin(final_countries)])\n",
    "COLI_df"
   ]
  },
  {
   "cell_type": "code",
   "execution_count": null,
   "metadata": {},
   "outputs": [],
   "source": [
    "# review simple stats as a reasonableness check (the \"sniff\" test)\n",
    "COLI_df.describe()"
   ]
  },
  {
   "cell_type": "code",
   "execution_count": null,
   "metadata": {},
   "outputs": [],
   "source": [
    "# review simple stats as a reasonableness check (the \"sniff\" test)\n",
    "property_df.describe()"
   ]
  },
  {
   "cell_type": "code",
   "execution_count": null,
   "metadata": {},
   "outputs": [],
   "source": [
    "# create a connection to a Postgresql database\n",
    "#rds_connection_string = \"<insert user name>:<insert password>@localhost:5432/customer_db\"\n",
    "#engine = create_engine(f'postgresql://{rds_connection_string}')"
   ]
  },
  {
   "cell_type": "code",
   "execution_count": null,
   "metadata": {},
   "outputs": [],
   "source": [
    "#check for tables\n",
    "#engine.table_names()"
   ]
  },
  {
   "cell_type": "code",
   "execution_count": null,
   "metadata": {},
   "outputs": [],
   "source": [
    "#use pandas to load csv converted DataFrame into database\n",
    "#new_customer_data_df.to_sql(name='customer_name', con=engine, if_exists='append', index=False)"
   ]
  },
  {
   "cell_type": "code",
   "execution_count": null,
   "metadata": {},
   "outputs": [],
   "source": [
    "#Confirm data has been added by querying the customer_name table (also checked in pgAdmin)\n",
    "#pd.read_sql_query('select * from customer_name', con=engine).head()"
   ]
  },
  {
   "cell_type": "code",
   "execution_count": null,
   "metadata": {},
   "outputs": [],
   "source": []
  },
  {
   "cell_type": "code",
   "execution_count": null,
   "metadata": {},
   "outputs": [],
   "source": [
    "# create csv files\n",
    "\n",
    "#COLI_df.to_csv(\"COLI_raw.csv\")\n",
    "#property_df.to_csv(\"property_raw.csv\")"
   ]
  }
 ],
 "metadata": {
  "kernelspec": {
   "display_name": "Python 3.7.6 64-bit ('PythonData': conda)",
   "language": "python",
   "name": "python37664bitpythondataconda732d323569964bd9be2661eee657a7aa"
  },
  "language_info": {
   "codemirror_mode": {
    "name": "ipython",
    "version": 3
   },
   "file_extension": ".py",
   "mimetype": "text/x-python",
   "name": "python",
   "nbconvert_exporter": "python",
   "pygments_lexer": "ipython3",
   "version": "3.7.6"
  }
 },
 "nbformat": 4,
 "nbformat_minor": 4
}
